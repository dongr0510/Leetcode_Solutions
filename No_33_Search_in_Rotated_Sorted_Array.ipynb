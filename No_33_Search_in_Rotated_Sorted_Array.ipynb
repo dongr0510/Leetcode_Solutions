{
 "cells": [
  {
   "cell_type": "code",
   "execution_count": 13,
   "metadata": {},
   "outputs": [],
   "source": [
    "def rotated_array(nums, target):\n",
    "    if not nums:\n",
    "        return -1\n",
    "    mid_point = len(nums)//2\n",
    "    print ('mid_point', mid_point)\n",
    "    if nums[mid_point] == target:\n",
    "        return mid_point\n",
    "    \n",
    "    left_part = nums[:mid_point]\n",
    "    print ('left', left_part)\n",
    "    right_part = nums[mid_point:]\n",
    "    print ('right', right_part)\n",
    "    \n",
    "    if nums[0] < nums[mid_point-1]:\n",
    "        # left part is sorted\n",
    "        if target >= nums[0] and target < nums[mid_point-1]:\n",
    "            return rotated_array(left_part, target)\n",
    "            \n",
    "        else:\n",
    "            return rotated_array(right_part, target)\n",
    "            \n",
    "    else:\n",
    "        if target > nums[mid_point] and target <= nums[-1]:\n",
    "            return rotated_array(right_part, target)\n",
    "        else:\n",
    "            return rotated_array(left_part, target)\n",
    "    "
   ]
  },
  {
   "cell_type": "code",
   "execution_count": 14,
   "metadata": {},
   "outputs": [
    {
     "name": "stdout",
     "output_type": "stream",
     "text": [
      "mid_point 3\n",
      "left [4, 5, 6]\n",
      "right [7, 0, 1, 2]\n",
      "mid_point 2\n",
      "left [7, 0]\n",
      "right [1, 2]\n",
      "mid_point 1\n"
     ]
    },
    {
     "data": {
      "text/plain": [
       "1"
      ]
     },
     "execution_count": 14,
     "metadata": {},
     "output_type": "execute_result"
    }
   ],
   "source": [
    "rotated_array(nums = [4,5,6,7,0,1,2], target = 0)"
   ]
  },
  {
   "cell_type": "code",
   "execution_count": 30,
   "metadata": {},
   "outputs": [],
   "source": [
    "def search(nums, target):\n",
    "    if not nums:\n",
    "        return -1\n",
    "    \n",
    "    f, l = 0, len(nums)-1\n",
    "    while f<=l:\n",
    "        mid_point = (f+l+1)//2\n",
    "        print (mid_point)\n",
    "        \n",
    "        if nums[mid_point] == target:\n",
    "            return mid_point\n",
    "        \n",
    "        if nums[f] < nums[mid_point]:\n",
    "            if nums[f]<= target < nums[mid_point]:\n",
    "                l = mid_point - 1\n",
    "                \n",
    "            else:\n",
    "                f = mid_point + 1\n",
    "        \n",
    "        else:\n",
    "            if nums[mid_point] < target <= nums[l]:\n",
    "                f = mid_point + 1\n",
    "                \n",
    "            else:\n",
    "                l = mid_point - 1\n",
    "                \n",
    "        print ('f', f)\n",
    "        print ('l', l)\n",
    "    return -1"
   ]
  },
  {
   "cell_type": "code",
   "execution_count": 31,
   "metadata": {},
   "outputs": [
    {
     "name": "stdout",
     "output_type": "stream",
     "text": [
      "1\n"
     ]
    },
    {
     "data": {
      "text/plain": [
       "1"
      ]
     },
     "execution_count": 31,
     "metadata": {},
     "output_type": "execute_result"
    }
   ],
   "source": [
    "search([3,1], 1)"
   ]
  },
  {
   "cell_type": "code",
   "execution_count": null,
   "metadata": {},
   "outputs": [],
   "source": []
  }
 ],
 "metadata": {
  "kernelspec": {
   "display_name": "Python 3",
   "language": "python",
   "name": "python3"
  },
  "language_info": {
   "codemirror_mode": {
    "name": "ipython",
    "version": 3
   },
   "file_extension": ".py",
   "mimetype": "text/x-python",
   "name": "python",
   "nbconvert_exporter": "python",
   "pygments_lexer": "ipython3",
   "version": "3.7.4"
  }
 },
 "nbformat": 4,
 "nbformat_minor": 4
}
