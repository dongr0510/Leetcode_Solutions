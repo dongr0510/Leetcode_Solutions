{
 "cells": [
  {
   "cell_type": "code",
   "execution_count": 15,
   "metadata": {},
   "outputs": [],
   "source": [
    "def search(nums, target):\n",
    "        if len(nums) == 0:\n",
    "            return -1\n",
    "        if len(nums) == 1:\n",
    "            if nums[0] == target:\n",
    "                return 0\n",
    "        if len(nums) == 2:\n",
    "            if nums[0] == target:\n",
    "                return 0\n",
    "            elif nums[1] == target:\n",
    "                return 1\n",
    "            else:\n",
    "                return -1\n",
    "        mid_point = len(nums)//2\n",
    "        print (mid_point)\n",
    "        if nums[mid_point] == target:\n",
    "            return mid_point\n",
    "        elif nums[mid_point] > target:\n",
    "            return mid_point - search(nums[:mid_point], target)\n",
    "        else:\n",
    "            return search(nums[mid_point:], target) + mid_point"
   ]
  },
  {
   "cell_type": "code",
   "execution_count": 16,
   "metadata": {},
   "outputs": [
    {
     "name": "stdout",
     "output_type": "stream",
     "text": [
      "3\n",
      "1\n"
     ]
    },
    {
     "data": {
      "text/plain": [
       "3"
      ]
     },
     "execution_count": 16,
     "metadata": {},
     "output_type": "execute_result"
    }
   ],
   "source": [
    "search([-1,0,3,5,9,12], 2)"
   ]
  },
  {
   "cell_type": "code",
   "execution_count": null,
   "metadata": {},
   "outputs": [],
   "source": []
  }
 ],
 "metadata": {
  "kernelspec": {
   "display_name": "Python 3",
   "language": "python",
   "name": "python3"
  },
  "language_info": {
   "codemirror_mode": {
    "name": "ipython",
    "version": 3
   },
   "file_extension": ".py",
   "mimetype": "text/x-python",
   "name": "python",
   "nbconvert_exporter": "python",
   "pygments_lexer": "ipython3",
   "version": "3.7.4"
  }
 },
 "nbformat": 4,
 "nbformat_minor": 4
}
