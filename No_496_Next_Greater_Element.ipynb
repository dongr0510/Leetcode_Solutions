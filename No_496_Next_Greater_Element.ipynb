{
 "cells": [
  {
   "cell_type": "code",
   "execution_count": 6,
   "metadata": {},
   "outputs": [],
   "source": [
    "def nextGreaterElement(nums1, nums2):\n",
    "        if not nums1 or not nums2:\n",
    "            return\n",
    "        stack_lst = []\n",
    "        ans_dict = {}\n",
    "\n",
    "        for i in range(len(nums2)-1, -1, -1):\n",
    "            print (stack_lst, '1')\n",
    "            while stack_lst and stack_lst[-1] <= nums2[i]:\n",
    "                stack_lst.pop()\n",
    "            if stack_lst:\n",
    "                ans_dict[nums2[i]] = stack_lst[-1]\n",
    "            else:\n",
    "                ans_dict[nums2[i]] = -1\n",
    "            stack_lst.append(nums2[i])\n",
    "        ans = []\n",
    "        for i in nums1:\n",
    "            ans.append(ans_dict[i])\n",
    "        return ans_dict"
   ]
  },
  {
   "cell_type": "code",
   "execution_count": 7,
   "metadata": {},
   "outputs": [
    {
     "name": "stdout",
     "output_type": "stream",
     "text": [
      "[] 1\n",
      "[2] 1\n",
      "[4] 1\n",
      "[4, 3] 1\n"
     ]
    },
    {
     "data": {
      "text/plain": [
       "{2: -1, 4: -1, 3: 4, 1: 3}"
      ]
     },
     "execution_count": 7,
     "metadata": {},
     "output_type": "execute_result"
    }
   ],
   "source": [
    "nextGreaterElement([4,1,2],[1,3,4,2])"
   ]
  },
  {
   "cell_type": "code",
   "execution_count": 8,
   "metadata": {},
   "outputs": [],
   "source": [
    "import numpy as np"
   ]
  },
  {
   "cell_type": "code",
   "execution_count": 33,
   "metadata": {},
   "outputs": [
    {
     "data": {
      "text/plain": [
       "1"
      ]
     },
     "execution_count": 33,
     "metadata": {},
     "output_type": "execute_result"
    }
   ],
   "source": [
    "np.random.randint(0, 4, 1)[0]"
   ]
  },
  {
   "cell_type": "code",
   "execution_count": null,
   "metadata": {},
   "outputs": [],
   "source": []
  },
  {
   "cell_type": "code",
   "execution_count": null,
   "metadata": {},
   "outputs": [],
   "source": []
  }
 ],
 "metadata": {
  "kernelspec": {
   "display_name": "Python 3",
   "language": "python",
   "name": "python3"
  },
  "language_info": {
   "codemirror_mode": {
    "name": "ipython",
    "version": 3
   },
   "file_extension": ".py",
   "mimetype": "text/x-python",
   "name": "python",
   "nbconvert_exporter": "python",
   "pygments_lexer": "ipython3",
   "version": "3.7.4"
  }
 },
 "nbformat": 4,
 "nbformat_minor": 4
}
