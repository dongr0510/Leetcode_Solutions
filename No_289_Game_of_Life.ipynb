{
 "cells": [
  {
   "cell_type": "markdown",
   "metadata": {},
   "source": [
    "Given a board with m by n cells, each cell has an initial state live (1) or dead (0). \n",
    "\n",
    "Each cell interacts with its eight neighbors (horizontal, vertical, diagonal) using the following four rules (taken from the above Wikipedia article):\n",
    "\n",
    "1. Any live cell with fewer than two live neighbors dies, as if caused by under-population.\n",
    "2. Any live cell with two or three live neighbors lives on to the next generation.\n",
    "3. Any live cell with more than three live neighbors dies, as if by over-population..\n",
    "4. Any dead cell with exactly three live neighbors becomes a live cell, as if by reproduction.\n",
    "\n"
   ]
  },
  {
   "cell_type": "code",
   "execution_count": 4,
   "metadata": {},
   "outputs": [],
   "source": [
    "import copy"
   ]
  },
  {
   "cell_type": "code",
   "execution_count": null,
   "metadata": {},
   "outputs": [],
   "source": [
    "def neighbor(r_i, c_i, board):\n",
    "    # 8 positions\n",
    "    m, n = len(board), len(board[0])\n",
    "    directions = [(0, 1), (0, -1), (-1, 0), (1, 0),\n",
    "                      (1, 1), (1, -1), (-1, 1), (-1, -1)]\n",
    "    new_status = 0\n",
    "    for i in directions:\n",
    "        r = i[0] + r_i\n",
    "        c = i[1] + c_i\n",
    "        if 0<= r_i < m and 0<= c_i <n:\n",
    "            new_status += board[r_i][c_i]\n",
    "    if new_status<2 or new_status>3:\n",
    "        return 2\n",
    "    elif board[r_i][c_i] == 0 and new_status == 3:\n",
    "        return 1\n",
    "def "
   ]
  },
  {
   "cell_type": "code",
   "execution_count": 17,
   "metadata": {},
   "outputs": [
    {
     "ename": "SyntaxError",
     "evalue": "invalid character in identifier (<ipython-input-17-37189c4976d6>, line 38)",
     "output_type": "error",
     "traceback": [
      "\u001b[0;36m  File \u001b[0;32m\"<ipython-input-17-37189c4976d6>\"\u001b[0;36m, line \u001b[0;32m38\u001b[0m\n\u001b[0;31m    作者：fuxuemingzhu\u001b[0m\n\u001b[0m                  ^\u001b[0m\n\u001b[0;31mSyntaxError\u001b[0m\u001b[0;31m:\u001b[0m invalid character in identifier\n"
     ]
    }
   ],
   "source": [
    "class Solution(object):\n",
    "    def gameOfLife(self, board):\n",
    "        \"\"\"\n",
    "        :type board: List[List[int]]\n",
    "        :rtype: void Do not return anything, modify board in-place instead.\n",
    "        \"\"\"\n",
    "        if board and board[0]:\n",
    "            M, N = len(board), len(board[0])\n",
    "            board_next = copy.deepcopy(board)\n",
    "            for m in range(M):\n",
    "                for n in range(N):\n",
    "                    lod = self.liveOrDead(board, m, n)\n",
    "                    if lod == 2:\n",
    "                        board_next[m][n] = 0\n",
    "                    elif lod == 1:\n",
    "                        board_next[m][n] = 1\n",
    "            for m in range(M):\n",
    "                for n in range(N):\n",
    "                    board[m][n] = board_next[m][n]\n",
    "            print (board_next)\n",
    "            \n",
    "    def liveOrDead(self, board, i, j):# return 0-nothing,1-live,2-dead\n",
    "        ds = [(1, 1), (1, -1), (1, 0), (-1, 1), (-1, 0), (-1, -1), (0, 1), (0, -1)]\n",
    "        live_count = 0\n",
    "        M, N = len(board), len(board[0])\n",
    "        for d in ds:\n",
    "            r, c = i + d[0], j + d[1]\n",
    "            if 0 <= r < M and 0 <= c < N:\n",
    "                if board[r][c] == 1:\n",
    "                    live_count += 1\n",
    "        if live_count < 2 or live_count > 3:\n",
    "            return 2\n",
    "        elif board[i][j] == 1 or (live_count == 3 and board[i][j] ==0):\n",
    "            return 1\n",
    "        else:\n",
    "            return 0\n",
    "\n",
    "作者：fuxuemingzhu\n",
    "链接：https://leetcode-cn.com/problems/game-of-life/solution/zhi-jie-qiu-fu-zhi-xia-shu-zu-fang-zhi-bei-fu-gai-/\n",
    "来源：力扣（LeetCode）\n",
    "著作权归作者所有。商业转载请联系作者获得授权，非商业转载请注明出处。"
   ]
  },
  {
   "cell_type": "code",
   "execution_count": 24,
   "metadata": {},
   "outputs": [],
   "source": [
    "def neighbor(r_i, c_i, board):\n",
    "        m, n = len(board), len(board[0])\n",
    "        directions = [(0, 1), (0, -1), (-1, 0), (1, 0),\n",
    "                      (1, 1), (1, -1), (-1, 1), (-1, -1)]\n",
    "        new_status = 0\n",
    "        for i in directions:\n",
    "            r = i[0] + r_i\n",
    "            c = i[1] + c_i\n",
    "            if 0<= r < m and 0<= c <n:\n",
    "                new_status += board[r][c]\n",
    "        #print (new_status)\n",
    "        if new_status<2 or new_status>3:\n",
    "            return 2\n",
    "        elif (board[r_i][c_i] == 0 and new_status == 3):\n",
    "            return 1\n",
    "def gameOfLife(board):\n",
    "        \"\"\"\n",
    "        Do not return anything, modify board in-place instead.\n",
    "        \"\"\"\n",
    "        m, n =len(board), len(board[0])\n",
    "        board_copy = copy.deepcopy(board)\n",
    "        for i in range(m):\n",
    "            for j in range(n):\n",
    "                #print (neighbor(i, j, board))\n",
    "                if neighbor(i, j, board) == 2:\n",
    "                    board_copy[i][j] = 0\n",
    "                elif neighbor(i, j, board) == 1:\n",
    "                    board_copy[i][j] = 1\n",
    "        for i in range(m):\n",
    "            for j in range(n):\n",
    "                board[i][j] = board_copy[i][j]\n",
    "        print (board_copy)\n",
    "        return board"
   ]
  },
  {
   "cell_type": "code",
   "execution_count": 25,
   "metadata": {},
   "outputs": [
    {
     "name": "stdout",
     "output_type": "stream",
     "text": [
      "[[0, 0, 0], [1, 0, 1], [0, 1, 1], [0, 1, 0]]\n"
     ]
    },
    {
     "data": {
      "text/plain": [
       "[[0, 1, 0], [0, 0, 1], [1, 1, 1], [0, 0, 0]]"
      ]
     },
     "execution_count": 25,
     "metadata": {},
     "output_type": "execute_result"
    }
   ],
   "source": [
    "gameOfLife([\n",
    "  [0,1,0],\n",
    "  [0,0,1],\n",
    "  [1,1,1],\n",
    "  [0,0,0]\n",
    "])"
   ]
  },
  {
   "cell_type": "code",
   "execution_count": null,
   "metadata": {},
   "outputs": [],
   "source": []
  }
 ],
 "metadata": {
  "kernelspec": {
   "display_name": "Python 3",
   "language": "python",
   "name": "python3"
  },
  "language_info": {
   "codemirror_mode": {
    "name": "ipython",
    "version": 3
   },
   "file_extension": ".py",
   "mimetype": "text/x-python",
   "name": "python",
   "nbconvert_exporter": "python",
   "pygments_lexer": "ipython3",
   "version": "3.7.4"
  }
 },
 "nbformat": 4,
 "nbformat_minor": 4
}
