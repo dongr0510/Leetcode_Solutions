{
 "cells": [
  {
   "cell_type": "code",
   "execution_count": 16,
   "metadata": {},
   "outputs": [],
   "source": [
    "def Par(s):\n",
    "        if not s:\n",
    "            return False\n",
    "\n",
    "        if len(s) == 1:\n",
    "            return True\n",
    "        \n",
    "        str_lst = []\n",
    "        for i in s:\n",
    "            if i.isalpha():\n",
    "                str_lst.append(i.lower())\n",
    "        print (str_lst)\n",
    "        \n",
    "        \n",
    "        if len(str_lst) == 0 or len(str_lst) == 1:\n",
    "            return True\n",
    "        \n",
    "        f, l = 0, len(str_lst)-1\n",
    "        while abs(f-l) > 1:\n",
    "            if str_lst[f] != str_lst[l]:\n",
    "                return False\n",
    "            else:\n",
    "                f += 1\n",
    "                l -= 1\n",
    "        if str_lst[f] != str_lst[l]:\n",
    "            return False\n",
    "        \n",
    "        return True"
   ]
  },
  {
   "cell_type": "code",
   "execution_count": 20,
   "metadata": {},
   "outputs": [
    {
     "name": "stdout",
     "output_type": "stream",
     "text": [
      "['p']\n"
     ]
    },
    {
     "data": {
      "text/plain": [
       "True"
      ]
     },
     "execution_count": 20,
     "metadata": {},
     "output_type": "execute_result"
    }
   ],
   "source": [
    "Par(\"0P\")"
   ]
  },
  {
   "cell_type": "code",
   "execution_count": null,
   "metadata": {},
   "outputs": [],
   "source": [
    "def longestPalindrome(self, s: str) -> str:\n",
    "\n",
    "        best = ''\n",
    "        n = len(s)\n",
    "        for i in range(n):\n",
    "            for j in range(i, n):\n",
    "                if j-i+1 > len(best) and self.isPalindrome(s[i:j+1], i, j+1):\n",
    "                    best = s[i:j+1]\n",
    "        return best\n",
    "        \n",
    "    def isPalindrome(self, s, l, r):\n",
    "            \n",
    "            while l < r:\n",
    "                if s[l] != s[r]:\n",
    "                    return False\n",
    "                l += 1\n",
    "                r -= 1\n",
    "            return True"
   ]
  },
  {
   "cell_type": "code",
   "execution_count": 2,
   "metadata": {},
   "outputs": [],
   "source": [
    "def isPalindrome(s):\n",
    "        qualify_s = []\n",
    "        for i in s:\n",
    "            if i.isalnum():\n",
    "                qualify_s.append(i.lower())\n",
    "        if not qualify_s:\n",
    "            return True\n",
    "        \n",
    "        s1 = ''.join(qualify_s)\n",
    "        print (s1)\n",
    "        n = len(s1)\n",
    "        for i in range(n//2 + 1):\n",
    "            if s1[i] != s1[n-i-1]:\n",
    "                return False\n",
    "        return True"
   ]
  },
  {
   "cell_type": "code",
   "execution_count": 3,
   "metadata": {},
   "outputs": [
    {
     "ename": "TypeError",
     "evalue": "isPalindrome() missing 1 required positional argument: 's'",
     "output_type": "error",
     "traceback": [
      "\u001b[0;31m---------------------------------------------------------------------------\u001b[0m",
      "\u001b[0;31mTypeError\u001b[0m                                 Traceback (most recent call last)",
      "\u001b[0;32m<ipython-input-3-d2f742ca600b>\u001b[0m in \u001b[0;36m<module>\u001b[0;34m\u001b[0m\n\u001b[0;32m----> 1\u001b[0;31m \u001b[0misPalindrome\u001b[0m\u001b[0;34m(\u001b[0m\u001b[0;34m)\u001b[0m\u001b[0;34m\u001b[0m\u001b[0;34m\u001b[0m\u001b[0m\n\u001b[0m",
      "\u001b[0;31mTypeError\u001b[0m: isPalindrome() missing 1 required positional argument: 's'"
     ]
    }
   ],
   "source": [
    "isPalindrome()"
   ]
  },
  {
   "cell_type": "code",
   "execution_count": null,
   "metadata": {},
   "outputs": [],
   "source": []
  }
 ],
 "metadata": {
  "kernelspec": {
   "display_name": "Python 3",
   "language": "python",
   "name": "python3"
  },
  "language_info": {
   "codemirror_mode": {
    "name": "ipython",
    "version": 3
   },
   "file_extension": ".py",
   "mimetype": "text/x-python",
   "name": "python",
   "nbconvert_exporter": "python",
   "pygments_lexer": "ipython3",
   "version": "3.7.4"
  }
 },
 "nbformat": 4,
 "nbformat_minor": 4
}
