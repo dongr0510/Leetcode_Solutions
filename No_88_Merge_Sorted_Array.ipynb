{
 "cells": [
  {
   "cell_type": "code",
   "execution_count": 30,
   "metadata": {},
   "outputs": [],
   "source": [
    "def merge(nums1, m, nums2, n):\n",
    "        p = m+n-1\n",
    "        p1 = m-1\n",
    "        p2 = n-1\n",
    "        \n",
    "        if m == 0:\n",
    "            print ('m==0')\n",
    "            nums1[:n] = nums2\n",
    "        \n",
    "        while p1 >= 0 and p2 >= 0:\n",
    "            if nums2[p2] > nums1[p1]:\n",
    "                nums1[p] = nums2[p2]\n",
    "                p2 -= 1\n",
    "                p -= 1\n",
    "            \n",
    "            else:\n",
    "                nums1[p] = nums1[p1]\n",
    "                p1 -= 1\n",
    "                p -= 1\n",
    "        print (p1)\n",
    "        print (p2)\n",
    "        print (p)\n",
    "        if p2 >= 0:\n",
    "            nums1[:p+1] = nums2[:p2+1]\n",
    "            \n",
    "        return nums1"
   ]
  },
  {
   "cell_type": "code",
   "execution_count": 31,
   "metadata": {},
   "outputs": [
    {
     "name": "stdout",
     "output_type": "stream",
     "text": [
      "-1\n",
      "0\n",
      "0\n"
     ]
    },
    {
     "data": {
      "text/plain": [
       "[1, 2]"
      ]
     },
     "execution_count": 31,
     "metadata": {},
     "output_type": "execute_result"
    }
   ],
   "source": [
    "merge([2,0],1, [1], 1)"
   ]
  },
  {
   "cell_type": "code",
   "execution_count": null,
   "metadata": {},
   "outputs": [],
   "source": []
  }
 ],
 "metadata": {
  "kernelspec": {
   "display_name": "Python 3",
   "language": "python",
   "name": "python3"
  },
  "language_info": {
   "codemirror_mode": {
    "name": "ipython",
    "version": 3
   },
   "file_extension": ".py",
   "mimetype": "text/x-python",
   "name": "python",
   "nbconvert_exporter": "python",
   "pygments_lexer": "ipython3",
   "version": "3.7.4"
  }
 },
 "nbformat": 4,
 "nbformat_minor": 4
}
