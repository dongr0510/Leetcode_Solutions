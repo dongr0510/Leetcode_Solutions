{
 "cells": [
  {
   "cell_type": "markdown",
   "metadata": {},
   "source": [
    "# 5392. Maximum Score After Splitting a String"
   ]
  },
  {
   "cell_type": "code",
   "execution_count": 1,
   "metadata": {},
   "outputs": [],
   "source": [
    "s = '011101'"
   ]
  },
  {
   "cell_type": "code",
   "execution_count": 23,
   "metadata": {},
   "outputs": [],
   "source": [
    "lst = [[0 for i in range(3)] for _ in range(len(s)-1)]"
   ]
  },
  {
   "cell_type": "code",
   "execution_count": 24,
   "metadata": {},
   "outputs": [
    {
     "data": {
      "text/plain": [
       "[[0, 0, 0], [0, 0, 0], [0, 0, 0], [0, 0, 0], [0, 0, 0]]"
      ]
     },
     "execution_count": 24,
     "metadata": {},
     "output_type": "execute_result"
    }
   ],
   "source": [
    "lst"
   ]
  },
  {
   "cell_type": "code",
   "execution_count": 25,
   "metadata": {},
   "outputs": [],
   "source": [
    "num1 = 0\n",
    "for i in s:\n",
    "    if i == '1':\n",
    "        num1+=1"
   ]
  },
  {
   "cell_type": "code",
   "execution_count": 26,
   "metadata": {},
   "outputs": [
    {
     "data": {
      "text/plain": [
       "4"
      ]
     },
     "execution_count": 26,
     "metadata": {},
     "output_type": "execute_result"
    }
   ],
   "source": [
    "num1"
   ]
  },
  {
   "cell_type": "code",
   "execution_count": 27,
   "metadata": {},
   "outputs": [
    {
     "data": {
      "text/plain": [
       "[[0, 0, 0], [0, 0, 0], [0, 0, 0], [0, 0, 0], [0, 0, 0]]"
      ]
     },
     "execution_count": 27,
     "metadata": {},
     "output_type": "execute_result"
    }
   ],
   "source": [
    "lst"
   ]
  },
  {
   "cell_type": "code",
   "execution_count": 28,
   "metadata": {},
   "outputs": [],
   "source": [
    "lst[0][1] = num1"
   ]
  },
  {
   "cell_type": "code",
   "execution_count": 34,
   "metadata": {},
   "outputs": [],
   "source": [
    "if s[0] == '0':\n",
    "    lst[0][0] = 1\n",
    "else:\n",
    "    lst[0][1] = num1 - 1\n",
    "\n",
    "lst[0][2] = lst[0][0] + lst[0][1]\n",
    "for i in range(1, len(s)-1):\n",
    "    if s[i] == '0':\n",
    "        lst[i][0] = lst[i-1][0] + 1\n",
    "        lst[i][1] = lst[i-1][1]\n",
    "    else:\n",
    "        lst[i][1] = lst[i-1][1] - 1\n",
    "        lst[i][0] = lst[i-1][0]\n",
    "        \n",
    "    lst[i][2] = max(lst[i-1][2], lst[i][0]+lst[i][1])"
   ]
  },
  {
   "cell_type": "code",
   "execution_count": 40,
   "metadata": {},
   "outputs": [
    {
     "data": {
      "text/plain": [
       "5"
      ]
     },
     "execution_count": 40,
     "metadata": {},
     "output_type": "execute_result"
    }
   ],
   "source": [
    "lst[-1][2]"
   ]
  },
  {
   "cell_type": "code",
   "execution_count": 49,
   "metadata": {},
   "outputs": [],
   "source": [
    "def maxScore(s):\n",
    "    lst = [[0 for i in range(3)] for _ in range(len(s)-1)]\n",
    "    num1 = 0\n",
    "    for i in s:\n",
    "        if i == '1':\n",
    "            num1+=1\n",
    "    \n",
    "    lst[0][1] = num1\n",
    "    \n",
    "    if s[0] == '0':\n",
    "        lst[0][0] = 1\n",
    "    else:\n",
    "        lst[0][1] = num1 - 1\n",
    "        \n",
    "\n",
    "    \n",
    "\n",
    "    lst[0][2] = lst[0][0] + lst[0][1]\n",
    "\n",
    "    for i in range(1, len(s)-1):\n",
    "        if s[i] == '0':\n",
    "            lst[i][0] = lst[i-1][0] + 1\n",
    "            lst[i][1] = lst[i-1][1]\n",
    "        else:\n",
    "            lst[i][1] = lst[i-1][1] - 1\n",
    "            lst[i][0] = lst[i-1][0]\n",
    "        \n",
    "        lst[i][2] = max(lst[i-1][2], lst[i][0]+lst[i][1])\n",
    "    \n",
    "    return lst[-1][2]"
   ]
  },
  {
   "cell_type": "code",
   "execution_count": 51,
   "metadata": {},
   "outputs": [
    {
     "data": {
      "text/plain": [
       "3"
      ]
     },
     "execution_count": 51,
     "metadata": {},
     "output_type": "execute_result"
    }
   ],
   "source": [
    "maxScore('1111')"
   ]
  },
  {
   "cell_type": "markdown",
   "metadata": {},
   "source": [
    "# 5393. Maximum Points You Can Obtain from Cards"
   ]
  },
  {
   "cell_type": "code",
   "execution_count": 122,
   "metadata": {},
   "outputs": [],
   "source": [
    "def maxScore(cardPoints, k):\n",
    "    if len(cardPoints) == 1:\n",
    "        return cardPoints[0]\n",
    "    if k == len(cardPoints):\n",
    "            return sum(cardPoints)\n",
    "    max_score = 0\n",
    "    head = [0 for _ in range(len(cardPoints))]\n",
    "    tail = [0 for _ in range(len(cardPoints))]\n",
    "    head[0] = cardPoints[0]\n",
    "    tail[-1] = cardPoints[-1]\n",
    "    for i in range(1, len(cardPoints)):\n",
    "        head[i] = cardPoints[i] + head[i-1]\n",
    "        tail[-i-1] = cardPoints[-i-1] + tail[-i]\n",
    "        \n",
    "\n",
    "    \n",
    "    for i in range(k-1):\n",
    "        print (head[i])\n",
    "        print (tail[-k+i+1])\n",
    "        score = head[i] + tail[-k+i+1]\n",
    "        \n",
    "        print (score)\n",
    "        max_score = max(max_score, score)\n",
    "    max_score = max(max_score, head[k-1], tail[-k])\n",
    "        \n",
    "    return max_score"
   ]
  },
  {
   "cell_type": "code",
   "execution_count": 123,
   "metadata": {},
   "outputs": [
    {
     "name": "stdout",
     "output_type": "stream",
     "text": [
      "96\n",
      "380\n",
      "476\n",
      "186\n",
      "339\n",
      "525\n",
      "227\n",
      "257\n",
      "484\n",
      "309\n",
      "218\n",
      "527\n",
      "348\n",
      "144\n",
      "492\n",
      "422\n",
      "80\n",
      "502\n",
      "486\n",
      "30\n",
      "516\n"
     ]
    },
    {
     "data": {
      "text/plain": [
       "536"
      ]
     },
     "execution_count": 123,
     "metadata": {},
     "output_type": "execute_result"
    }
   ],
   "source": [
    "maxScore([96,90,41,82,39,74,64,50,30], 8)"
   ]
  },
  {
   "cell_type": "code",
   "execution_count": 96,
   "metadata": {},
   "outputs": [
    {
     "data": {
      "text/plain": [
       "[96, 186, 227, 309, 348, 422, 486, 536, 566]"
      ]
     },
     "execution_count": 96,
     "metadata": {},
     "output_type": "execute_result"
    }
   ],
   "source": [
    "h"
   ]
  },
  {
   "cell_type": "code",
   "execution_count": 97,
   "metadata": {},
   "outputs": [
    {
     "data": {
      "text/plain": [
       "[566, 470, 380, 339, 257, 218, 144, 80, 30]"
      ]
     },
     "execution_count": 97,
     "metadata": {},
     "output_type": "execute_result"
    }
   ],
   "source": [
    "t"
   ]
  },
  {
   "cell_type": "code",
   "execution_count": 60,
   "metadata": {},
   "outputs": [],
   "source": [
    "a=[1,2,3,4,5,6,1]"
   ]
  },
  {
   "cell_type": "code",
   "execution_count": 77,
   "metadata": {},
   "outputs": [
    {
     "data": {
      "text/plain": [
       "536"
      ]
     },
     "execution_count": 77,
     "metadata": {},
     "output_type": "execute_result"
    }
   ],
   "source": [
    "sum([96,90,41,82,39,74,64,50])"
   ]
  },
  {
   "cell_type": "code",
   "execution_count": 84,
   "metadata": {},
   "outputs": [
    {
     "data": {
      "text/plain": [
       "1"
      ]
     },
     "execution_count": 84,
     "metadata": {},
     "output_type": "execute_result"
    }
   ],
   "source": [
    "a[-1]"
   ]
  },
  {
   "cell_type": "code",
   "execution_count": 85,
   "metadata": {},
   "outputs": [
    {
     "data": {
      "text/plain": [
       "6"
      ]
     },
     "execution_count": 85,
     "metadata": {},
     "output_type": "execute_result"
    }
   ],
   "source": [
    "a[-2]"
   ]
  },
  {
   "cell_type": "code",
   "execution_count": 86,
   "metadata": {},
   "outputs": [
    {
     "data": {
      "text/plain": [
       "1"
      ]
     },
     "execution_count": 86,
     "metadata": {},
     "output_type": "execute_result"
    }
   ],
   "source": [
    "a[-7]"
   ]
  },
  {
   "cell_type": "markdown",
   "metadata": {},
   "source": [
    "# 5394. Diagonal Traverse II"
   ]
  },
  {
   "cell_type": "code",
   "execution_count": 157,
   "metadata": {},
   "outputs": [],
   "source": [
    "def findDia(nums):\n",
    "    if len(nums) == 1:\n",
    "        return nums[0]\n",
    "    \n",
    "    len_col = [len(i) for i in nums]\n",
    "    max_col = max(len_col)\n",
    "    ans = []\n",
    "    for i in range(len(nums)):\n",
    "\n",
    "        for j in range(i+1):\n",
    "            \n",
    "            try:\n",
    "                ans.append(nums[i-j][j])\n",
    "            except:\n",
    "                continue\n",
    "    \n",
    "    \n",
    "    \n",
    "    for i in range(1, max(len(nums), max_col)):\n",
    "        for j in range(1, max_col):\n",
    "            try:\n",
    "                ans.append(nums[-j][j+i-1])\n",
    "            except:\n",
    "                continue\n",
    "    \n",
    "    return ans"
   ]
  },
  {
   "cell_type": "code",
   "execution_count": 158,
   "metadata": {},
   "outputs": [
    {
     "data": {
      "text/plain": [
       "[14, 13, 12, 11, 14, 19, 13, 15, 16, 1, 8, 9, 11]"
      ]
     },
     "execution_count": 158,
     "metadata": {},
     "output_type": "execute_result"
    }
   ],
   "source": [
    "findDia([[14,12,19,16,9],[13,14,15,8,11],[11,13,1]])"
   ]
  },
  {
   "cell_type": "markdown",
   "metadata": {},
   "source": [
    "### 使用对角线上元素横纵坐标之和相等，因此使用哈希表进行收集，关键点也是参考代码中防止逆序操作（从行末尾倒置遍历到行开始）。"
   ]
  },
  {
   "cell_type": "markdown",
   "metadata": {},
   "source": [
    "### \n",
    "* 遍历所有行列元素，以 row + col 作为键添加 matrix[row][col] 值到列表中。\n",
    "* 对字典进行排序，防止中间特长导致 row + col 特别大，就破坏字典插入有序了，因此需要排序。（注意：由于不是矩阵，不可以直接拿行列和去当键查询，因为是键跳跃的，如果这样会退化为暴力，所以排序）\n",
    "* 合并键值。返回结果。"
   ]
  },
  {
   "cell_type": "code",
   "execution_count": 162,
   "metadata": {},
   "outputs": [],
   "source": [
    "import collections"
   ]
  },
  {
   "cell_type": "code",
   "execution_count": 169,
   "metadata": {},
   "outputs": [],
   "source": [
    "def findDia(nums):\n",
    "    d = collections.defaultdict(list)\n",
    "    \n",
    "    for row in range(len(nums)-1, -1, -1):\n",
    "        print ('row', row)\n",
    "        for col in range(len(nums[row])-1, -1, -1):\n",
    "            print ('col', col)\n",
    "            print ('row+col', row+col)\n",
    "            d[row+col].append(nums[row][col])\n",
    "    print (d, 'not sort')\n",
    "    print (sorted(d), 'sort')\n",
    "    res = []\n",
    "    for idx in sorted(d):\n",
    "        res.extend(d[idx])\n",
    "    return res"
   ]
  },
  {
   "cell_type": "code",
   "execution_count": 170,
   "metadata": {},
   "outputs": [
    {
     "name": "stdout",
     "output_type": "stream",
     "text": [
      "row 2\n",
      "col 2\n",
      "row+col 4\n",
      "col 1\n",
      "row+col 3\n",
      "col 0\n",
      "row+col 2\n",
      "row 1\n",
      "col 4\n",
      "row+col 5\n",
      "col 3\n",
      "row+col 4\n",
      "col 2\n",
      "row+col 3\n",
      "col 1\n",
      "row+col 2\n",
      "col 0\n",
      "row+col 1\n",
      "row 0\n",
      "col 4\n",
      "row+col 4\n",
      "col 3\n",
      "row+col 3\n",
      "col 2\n",
      "row+col 2\n",
      "col 1\n",
      "row+col 1\n",
      "col 0\n",
      "row+col 0\n",
      "defaultdict(<class 'list'>, {4: [1, 8, 9], 3: [13, 15, 16], 2: [11, 14, 19], 5: [11], 1: [13, 12], 0: [14]}) not sort\n",
      "[0, 1, 2, 3, 4, 5] sort\n"
     ]
    },
    {
     "data": {
      "text/plain": [
       "[14, 13, 12, 11, 14, 19, 13, 15, 16, 1, 8, 9, 11]"
      ]
     },
     "execution_count": 170,
     "metadata": {},
     "output_type": "execute_result"
    }
   ],
   "source": [
    "findDia([[14,12,19,16,9],[13,14,15,8,11],[11,13,1]])"
   ]
  },
  {
   "cell_type": "code",
   "execution_count": null,
   "metadata": {},
   "outputs": [],
   "source": []
  }
 ],
 "metadata": {
  "kernelspec": {
   "display_name": "Python 3",
   "language": "python",
   "name": "python3"
  },
  "language_info": {
   "codemirror_mode": {
    "name": "ipython",
    "version": 3
   },
   "file_extension": ".py",
   "mimetype": "text/x-python",
   "name": "python",
   "nbconvert_exporter": "python",
   "pygments_lexer": "ipython3",
   "version": "3.7.4"
  }
 },
 "nbformat": 4,
 "nbformat_minor": 4
}
