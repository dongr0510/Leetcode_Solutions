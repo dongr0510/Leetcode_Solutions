{
 "cells": [
  {
   "cell_type": "code",
   "execution_count": 17,
   "metadata": {},
   "outputs": [],
   "source": [
    "from itertools import permutations\n",
    "from itertools import combinations"
   ]
  },
  {
   "cell_type": "code",
   "execution_count": 21,
   "metadata": {},
   "outputs": [],
   "source": [
    "target = ['(' for i in range(3)] + [')' for i in range(3)]"
   ]
  },
  {
   "cell_type": "code",
   "execution_count": 36,
   "metadata": {},
   "outputs": [],
   "source": [
    "perm = permutations(target,6)"
   ]
  },
  {
   "cell_type": "code",
   "execution_count": 37,
   "metadata": {},
   "outputs": [],
   "source": [
    "a = set(perm)"
   ]
  },
  {
   "cell_type": "code",
   "execution_count": 38,
   "metadata": {},
   "outputs": [
    {
     "data": {
      "text/plain": [
       "{('(', '(', '(', ')', ')', ')'),\n",
       " ('(', '(', ')', '(', ')', ')'),\n",
       " ('(', '(', ')', ')', '(', ')'),\n",
       " ('(', '(', ')', ')', ')', '('),\n",
       " ('(', ')', '(', '(', ')', ')'),\n",
       " ('(', ')', '(', ')', '(', ')'),\n",
       " ('(', ')', '(', ')', ')', '('),\n",
       " ('(', ')', ')', '(', '(', ')'),\n",
       " ('(', ')', ')', '(', ')', '('),\n",
       " ('(', ')', ')', ')', '(', '('),\n",
       " (')', '(', '(', '(', ')', ')'),\n",
       " (')', '(', '(', ')', '(', ')'),\n",
       " (')', '(', '(', ')', ')', '('),\n",
       " (')', '(', ')', '(', '(', ')'),\n",
       " (')', '(', ')', '(', ')', '('),\n",
       " (')', '(', ')', ')', '(', '('),\n",
       " (')', ')', '(', '(', '(', ')'),\n",
       " (')', ')', '(', '(', ')', '('),\n",
       " (')', ')', '(', ')', '(', '('),\n",
       " (')', ')', ')', '(', '(', '(')}"
      ]
     },
     "execution_count": 38,
     "metadata": {},
     "output_type": "execute_result"
    }
   ],
   "source": [
    "a"
   ]
  },
  {
   "cell_type": "code",
   "execution_count": 46,
   "metadata": {},
   "outputs": [],
   "source": [
    "for i in a:\n",
    "     i = ''.join(list(i))"
   ]
  },
  {
   "cell_type": "code",
   "execution_count": 43,
   "metadata": {},
   "outputs": [],
   "source": [
    "b = ['(', ')', ')', '(', '(', ')']"
   ]
  },
  {
   "cell_type": "code",
   "execution_count": 44,
   "metadata": {},
   "outputs": [
    {
     "data": {
      "text/plain": [
       "'())(()'"
      ]
     },
     "execution_count": 44,
     "metadata": {},
     "output_type": "execute_result"
    }
   ],
   "source": [
    "''.join(b)"
   ]
  },
  {
   "cell_type": "code",
   "execution_count": 47,
   "metadata": {},
   "outputs": [
    {
     "data": {
      "text/plain": [
       "{('(', '(', '(', ')', ')', ')'),\n",
       " ('(', '(', ')', '(', ')', ')'),\n",
       " ('(', '(', ')', ')', '(', ')'),\n",
       " ('(', '(', ')', ')', ')', '('),\n",
       " ('(', ')', '(', '(', ')', ')'),\n",
       " ('(', ')', '(', ')', '(', ')'),\n",
       " ('(', ')', '(', ')', ')', '('),\n",
       " ('(', ')', ')', '(', '(', ')'),\n",
       " ('(', ')', ')', '(', ')', '('),\n",
       " ('(', ')', ')', ')', '(', '('),\n",
       " (')', '(', '(', '(', ')', ')'),\n",
       " (')', '(', '(', ')', '(', ')'),\n",
       " (')', '(', '(', ')', ')', '('),\n",
       " (')', '(', ')', '(', '(', ')'),\n",
       " (')', '(', ')', '(', ')', '('),\n",
       " (')', '(', ')', ')', '(', '('),\n",
       " (')', ')', '(', '(', '(', ')'),\n",
       " (')', ')', '(', '(', ')', '('),\n",
       " (')', ')', '(', ')', '(', '('),\n",
       " (')', ')', ')', '(', '(', '(')}"
      ]
     },
     "execution_count": 47,
     "metadata": {},
     "output_type": "execute_result"
    }
   ],
   "source": [
    "a"
   ]
  },
  {
   "cell_type": "code",
   "execution_count": null,
   "metadata": {},
   "outputs": [],
   "source": []
  }
 ],
 "metadata": {
  "kernelspec": {
   "display_name": "Python 3",
   "language": "python",
   "name": "python3"
  },
  "language_info": {
   "codemirror_mode": {
    "name": "ipython",
    "version": 3
   },
   "file_extension": ".py",
   "mimetype": "text/x-python",
   "name": "python",
   "nbconvert_exporter": "python",
   "pygments_lexer": "ipython3",
   "version": "3.7.4"
  }
 },
 "nbformat": 4,
 "nbformat_minor": 4
}
