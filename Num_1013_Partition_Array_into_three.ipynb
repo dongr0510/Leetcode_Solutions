{
 "cells": [
  {
   "cell_type": "code",
   "execution_count": 35,
   "metadata": {},
   "outputs": [],
   "source": [
    "def canThreePartsEqualSum(A):\n",
    "        if sum(A)%3 != 0:\n",
    "            return False\n",
    "        part_sum = sum(A)/3\n",
    "        # first find first part that equal to part_sum\n",
    "        first_part_idx = -1\n",
    "        second_part_idx = -1\n",
    "        for idx in range(1, len(A)-1):\n",
    "            if sum(A[:idx]) == part_sum:\n",
    "                first_part_idx = idx - 1\n",
    "                break\n",
    "        print (first_part_idx)\n",
    "        if first_part_idx == -1:\n",
    "            return False\n",
    "        for idx_2 in range(first_part_idx+2, len(A)):\n",
    "            if sum(A[first_part_idx+1:idx_2]) == part_sum:\n",
    "                second_part_idx = idx_2 - 1\n",
    "                break\n",
    "        print (second_part_idx)\n",
    "\n",
    "        if second_part_idx != -1:\n",
    "            return True \n",
    "        else:\n",
    "            return False"
   ]
  },
  {
   "cell_type": "code",
   "execution_count": 38,
   "metadata": {},
   "outputs": [],
   "source": [
    "test = [0,2,1,-6,6,-7,9,1,2,0,1]"
   ]
  },
  {
   "cell_type": "code",
   "execution_count": 39,
   "metadata": {},
   "outputs": [
    {
     "name": "stdout",
     "output_type": "stream",
     "text": [
      "2\n",
      "7\n"
     ]
    },
    {
     "data": {
      "text/plain": [
       "True"
      ]
     },
     "execution_count": 39,
     "metadata": {},
     "output_type": "execute_result"
    }
   ],
   "source": [
    "canThreePartsEqualSum(test)"
   ]
  },
  {
   "cell_type": "code",
   "execution_count": 40,
   "metadata": {},
   "outputs": [
    {
     "data": {
      "text/plain": [
       "9"
      ]
     },
     "execution_count": 40,
     "metadata": {},
     "output_type": "execute_result"
    }
   ],
   "source": [
    "sum(test)"
   ]
  },
  {
   "cell_type": "code",
   "execution_count": 30,
   "metadata": {},
   "outputs": [
    {
     "data": {
      "text/plain": [
       "0"
      ]
     },
     "execution_count": 30,
     "metadata": {},
     "output_type": "execute_result"
    }
   ],
   "source": [
    "sum(test[:0])"
   ]
  },
  {
   "cell_type": "code",
   "execution_count": 31,
   "metadata": {},
   "outputs": [
    {
     "data": {
      "text/plain": [
       "[]"
      ]
     },
     "execution_count": 31,
     "metadata": {},
     "output_type": "execute_result"
    }
   ],
   "source": [
    "test[:0]"
   ]
  },
  {
   "cell_type": "code",
   "execution_count": 63,
   "metadata": {},
   "outputs": [],
   "source": [
    "def isValid(s) -> bool:\n",
    "        lst = []\n",
    "        for i in range(len(s)):\n",
    "            print (s[i])\n",
    "            print (lst)\n",
    "            if s[i] == '(' or s[i] == '{' or s[i] == '[':\n",
    "                lst.append(s[i])\n",
    "                print (lst)\n",
    "                continue\n",
    "            else:\n",
    "                if s[i] == lst.pop():\n",
    "                    print (s[i])\n",
    "                    print (lst.pop())\n",
    "                    continue\n",
    "                else:\n",
    "                    return False\n",
    "        return True"
   ]
  },
  {
   "cell_type": "code",
   "execution_count": 69,
   "metadata": {},
   "outputs": [],
   "source": [
    "def removeDuplicates(nums) -> int:\n",
    "        if len(nums) == 0:\n",
    "            return 0\n",
    "        if len(nums) == 1:\n",
    "            return 1\n",
    "        result = 1\n",
    "        first_number = nums[0]\n",
    "        for i in range(1, len(nums)):\n",
    "            if nums[i] == first_number:\n",
    "                continue\n",
    "            else:\n",
    "                result+=1\n",
    "                first_number = nums[i]\n",
    "        return result"
   ]
  },
  {
   "cell_type": "code",
   "execution_count": 70,
   "metadata": {},
   "outputs": [
    {
     "data": {
      "text/plain": [
       "4"
      ]
     },
     "execution_count": 70,
     "metadata": {},
     "output_type": "execute_result"
    }
   ],
   "source": [
    "removeDuplicates([1,1,2,3,4,4,4])"
   ]
  },
  {
   "cell_type": "code",
   "execution_count": 73,
   "metadata": {},
   "outputs": [
    {
     "name": "stdout",
     "output_type": "stream",
     "text": [
      "5\n",
      "4\n",
      "3\n",
      "2\n",
      "1\n",
      "0\n"
     ]
    }
   ],
   "source": [
    "for i in range(5,-1,-1):\n",
    "    print (i)"
   ]
  },
  {
   "cell_type": "code",
   "execution_count": 181,
   "metadata": {},
   "outputs": [],
   "source": [
    "def merge(nums1, m, nums2, n) -> None:\n",
    "        \"\"\"\n",
    "        Do not return anything, modify nums1 in-place instead.\n",
    "        \"\"\"\n",
    "        nums1_real_len = m+n-1\n",
    "        print ('real_len', nums1_real_len)\n",
    "        if m == 0:\n",
    "            pm = m+1\n",
    "        pm = m\n",
    "        if m == 0:\n",
    "            pm = 1\n",
    "        for i in range(n-1, -1, -1):\n",
    "            print ('i', i)\n",
    "            if nums1[pm-1] > nums2[i]:\n",
    "                print ('True nums1[pm-1]', nums1[pm-1])\n",
    "                print ('True nums2[i]', nums2[i])\n",
    "                nums1[nums1_real_len] = nums1[pm-1]\n",
    "\n",
    "                print ('pm', pm)\n",
    "                pm -= 1\n",
    "                print ('pm-1', pm)\n",
    "                \n",
    "                    \n",
    "                nums1[nums1_real_len-1] = nums2[i]\n",
    "                nums1_real_len -= 2\n",
    "                print ('True_real_len', nums1_real_len)\n",
    "                print (nums1)\n",
    "                if pm == 0:\n",
    "                    # when pm reach to zero, it could be finished here\n",
    "                    for i in range(nums1_real_len, -1, -1):\n",
    "                        nums1[i] = nums2[i]\n",
    "                    break\n",
    "            else:\n",
    "                nums1[pm-1] <= nums2[i]\n",
    "                print ('False nums1[pm-1]', nums1[pm-1])\n",
    "                print ('False nums2[i]', nums2[i])\n",
    "                print ('False pm', pm)\n",
    "                nums1[nums1_real_len] = nums2[i]\n",
    "                nums1_real_len -=1\n",
    "                print ('False_real_len', nums1_real_len)\n",
    "                print (nums1)\n",
    "\n",
    "        return nums1"
   ]
  },
  {
   "cell_type": "code",
   "execution_count": 201,
   "metadata": {},
   "outputs": [],
   "source": [
    "def merge(nums1, m, nums2, n):\n",
    "        nums1_real_len = m+n-1\n",
    "        pm = m\n",
    "        if m == 0:\n",
    "            pm = 1\n",
    "        pn = n\n",
    "        for i in range(n+1):\n",
    "            if nums1[pm-1] >= nums2[pn-1]:\n",
    "                nums1[nums1_real_len] = nums1[pm-1]\n",
    "                print (nums1)\n",
    "                pm -= 1\n",
    "                nums1_real_len -= 1\n",
    "                if pm == 0:\n",
    "                    # when pm reach to zero, it could be finished here\n",
    "                    for i in range(nums1_real_len, -1, -1):\n",
    "                        nums1[i] = nums2[i]\n",
    "                    break\n",
    "            else:\n",
    "                nums1[nums1_real_len] = nums2[pn-1]\n",
    "                print (nums1)\n",
    "                nums1_real_len -=1\n",
    "                pn-=1\n",
    "        return nums1"
   ]
  },
  {
   "cell_type": "code",
   "execution_count": 202,
   "metadata": {},
   "outputs": [
    {
     "name": "stdout",
     "output_type": "stream",
     "text": [
      "[1, 2, 3, 0, 0, 6]\n",
      "[1, 2, 3, 0, 5, 6]\n",
      "[1, 2, 3, 3, 5, 6]\n",
      "[1, 2, 2, 3, 5, 6]\n"
     ]
    },
    {
     "data": {
      "text/plain": [
       "[1, 2, 2, 3, 5, 6]"
      ]
     },
     "execution_count": 202,
     "metadata": {},
     "output_type": "execute_result"
    }
   ],
   "source": [
    "merge([1,2,3,0,0,0], 3, [2,5,6], 3)"
   ]
  },
  {
   "cell_type": "code",
   "execution_count": null,
   "metadata": {},
   "outputs": [],
   "source": []
  },
  {
   "cell_type": "code",
   "execution_count": 203,
   "metadata": {},
   "outputs": [
    {
     "name": "stdout",
     "output_type": "stream",
     "text": [
      "[0, 0, 0, 0, 5]\n",
      "[0, 0, 0, 4, 5]\n",
      "[0, 0, 3, 4, 5]\n",
      "[0, 2, 3, 4, 5]\n",
      "[1, 2, 3, 4, 5]\n",
      "[1, 2, 3, 4, 5]\n"
     ]
    },
    {
     "data": {
      "text/plain": [
       "[1, 2, 3, 4, 5]"
      ]
     },
     "execution_count": 203,
     "metadata": {},
     "output_type": "execute_result"
    }
   ],
   "source": [
    "merge([0,0,0,0,0], 0, [1,2,3,4,5], 5)"
   ]
  },
  {
   "cell_type": "code",
   "execution_count": 204,
   "metadata": {},
   "outputs": [
    {
     "name": "stdout",
     "output_type": "stream",
     "text": [
      "[4, 0, 0, 0, 0, 6]\n",
      "[4, 0, 0, 0, 5, 6]\n",
      "[4, 0, 0, 4, 5, 6]\n"
     ]
    },
    {
     "data": {
      "text/plain": [
       "[1, 2, 3, 4, 5, 6]"
      ]
     },
     "execution_count": 204,
     "metadata": {},
     "output_type": "execute_result"
    }
   ],
   "source": [
    "merge([4,0,0,0,0,0], 1, [1,2,3,5,6], 5)"
   ]
  },
  {
   "cell_type": "code",
   "execution_count": 205,
   "metadata": {},
   "outputs": [
    {
     "name": "stdout",
     "output_type": "stream",
     "text": [
      "[4, 5, 6, 0, 0, 6]\n",
      "[4, 5, 6, 0, 5, 6]\n",
      "[4, 5, 6, 4, 5, 6]\n"
     ]
    },
    {
     "data": {
      "text/plain": [
       "[1, 2, 3, 4, 5, 6]"
      ]
     },
     "execution_count": 205,
     "metadata": {},
     "output_type": "execute_result"
    }
   ],
   "source": [
    "merge([4,5,6,0,0,0], 3, [1,2,3], 3)"
   ]
  },
  {
   "cell_type": "code",
   "execution_count": 206,
   "metadata": {},
   "outputs": [
    {
     "ename": "IndexError",
     "evalue": "list index out of range",
     "output_type": "error",
     "traceback": [
      "\u001b[0;31m---------------------------------------------------------------------------\u001b[0m",
      "\u001b[0;31mIndexError\u001b[0m                                Traceback (most recent call last)",
      "\u001b[0;32m<ipython-input-206-f768d2a369ad>\u001b[0m in \u001b[0;36m<module>\u001b[0;34m\u001b[0m\n\u001b[0;32m----> 1\u001b[0;31m \u001b[0mmerge\u001b[0m\u001b[0;34m(\u001b[0m\u001b[0;34m[\u001b[0m\u001b[0;36m1\u001b[0m\u001b[0;34m]\u001b[0m\u001b[0;34m,\u001b[0m \u001b[0;36m1\u001b[0m\u001b[0;34m,\u001b[0m \u001b[0;34m[\u001b[0m\u001b[0;34m]\u001b[0m\u001b[0;34m,\u001b[0m \u001b[0;36m0\u001b[0m\u001b[0;34m)\u001b[0m\u001b[0;34m\u001b[0m\u001b[0;34m\u001b[0m\u001b[0m\n\u001b[0m",
      "\u001b[0;32m<ipython-input-201-b16f1cdce30a>\u001b[0m in \u001b[0;36mmerge\u001b[0;34m(nums1, m, nums2, n)\u001b[0m\n\u001b[1;32m      6\u001b[0m         \u001b[0mpn\u001b[0m \u001b[0;34m=\u001b[0m \u001b[0mn\u001b[0m\u001b[0;34m\u001b[0m\u001b[0;34m\u001b[0m\u001b[0m\n\u001b[1;32m      7\u001b[0m         \u001b[0;32mfor\u001b[0m \u001b[0mi\u001b[0m \u001b[0;32min\u001b[0m \u001b[0mrange\u001b[0m\u001b[0;34m(\u001b[0m\u001b[0mn\u001b[0m\u001b[0;34m+\u001b[0m\u001b[0;36m1\u001b[0m\u001b[0;34m)\u001b[0m\u001b[0;34m:\u001b[0m\u001b[0;34m\u001b[0m\u001b[0;34m\u001b[0m\u001b[0m\n\u001b[0;32m----> 8\u001b[0;31m             \u001b[0;32mif\u001b[0m \u001b[0mnums1\u001b[0m\u001b[0;34m[\u001b[0m\u001b[0mpm\u001b[0m\u001b[0;34m-\u001b[0m\u001b[0;36m1\u001b[0m\u001b[0;34m]\u001b[0m \u001b[0;34m>=\u001b[0m \u001b[0mnums2\u001b[0m\u001b[0;34m[\u001b[0m\u001b[0mpn\u001b[0m\u001b[0;34m-\u001b[0m\u001b[0;36m1\u001b[0m\u001b[0;34m]\u001b[0m\u001b[0;34m:\u001b[0m\u001b[0;34m\u001b[0m\u001b[0;34m\u001b[0m\u001b[0m\n\u001b[0m\u001b[1;32m      9\u001b[0m                 \u001b[0mnums1\u001b[0m\u001b[0;34m[\u001b[0m\u001b[0mnums1_real_len\u001b[0m\u001b[0;34m]\u001b[0m \u001b[0;34m=\u001b[0m \u001b[0mnums1\u001b[0m\u001b[0;34m[\u001b[0m\u001b[0mpm\u001b[0m\u001b[0;34m-\u001b[0m\u001b[0;36m1\u001b[0m\u001b[0;34m]\u001b[0m\u001b[0;34m\u001b[0m\u001b[0;34m\u001b[0m\u001b[0m\n\u001b[1;32m     10\u001b[0m                 \u001b[0mprint\u001b[0m \u001b[0;34m(\u001b[0m\u001b[0mnums1\u001b[0m\u001b[0;34m)\u001b[0m\u001b[0;34m\u001b[0m\u001b[0;34m\u001b[0m\u001b[0m\n",
      "\u001b[0;31mIndexError\u001b[0m: list index out of range"
     ]
    }
   ],
   "source": [
    "merge([1], 1, [], 0)"
   ]
  },
  {
   "cell_type": "code",
   "execution_count": 208,
   "metadata": {},
   "outputs": [],
   "source": [
    "n = 0"
   ]
  },
  {
   "cell_type": "code",
   "execution_count": 209,
   "metadata": {},
   "outputs": [
    {
     "data": {
      "text/plain": [
       "False"
      ]
     },
     "execution_count": 209,
     "metadata": {},
     "output_type": "execute_result"
    }
   ],
   "source": [
    "n == True"
   ]
  },
  {
   "cell_type": "code",
   "execution_count": 210,
   "metadata": {},
   "outputs": [
    {
     "data": {
      "text/plain": [
       "True"
      ]
     },
     "execution_count": 210,
     "metadata": {},
     "output_type": "execute_result"
    }
   ],
   "source": [
    "n == False"
   ]
  },
  {
   "cell_type": "code",
   "execution_count": null,
   "metadata": {},
   "outputs": [],
   "source": []
  }
 ],
 "metadata": {
  "kernelspec": {
   "display_name": "Python 3",
   "language": "python",
   "name": "python3"
  },
  "language_info": {
   "codemirror_mode": {
    "name": "ipython",
    "version": 3
   },
   "file_extension": ".py",
   "mimetype": "text/x-python",
   "name": "python",
   "nbconvert_exporter": "python",
   "pygments_lexer": "ipython3",
   "version": "3.7.4"
  }
 },
 "nbformat": 4,
 "nbformat_minor": 2
}
