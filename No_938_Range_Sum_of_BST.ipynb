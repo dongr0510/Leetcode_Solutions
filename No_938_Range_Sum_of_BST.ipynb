{
 "cells": [
  {
   "cell_type": "code",
   "execution_count": 2,
   "metadata": {},
   "outputs": [],
   "source": [
    "class TreeNode:\n",
    "    def __init__(self, x):\n",
    "        self.val = x\n",
    "        self.left = None\n",
    "        self.right = None"
   ]
  },
  {
   "cell_type": "code",
   "execution_count": 3,
   "metadata": {},
   "outputs": [],
   "source": [
    "def rangeSumBST(root: TreeNode, L: int, R: int) -> int:\n",
    "        ans = 0\n",
    "\n",
    "        def helper(root, L, R):\n",
    "            if not root:\n",
    "                return 0\n",
    "            \n",
    "            if L <= root.val <= R:\n",
    "                ans += root.val\n",
    "                ans += helper(root.left, L, R)\n",
    "                ans += helper(root.right, L, R)\n",
    "            elif root.val > R:\n",
    "                ans += helper(root.left, L, R)\n",
    "            elif root.val < L:\n",
    "                return 0\n",
    "\n",
    "        helper(root, L, R)\n",
    "        return ans"
   ]
  },
  {
   "cell_type": "code",
   "execution_count": null,
   "metadata": {},
   "outputs": [],
   "source": []
  }
 ],
 "metadata": {
  "kernelspec": {
   "display_name": "Python 3",
   "language": "python",
   "name": "python3"
  },
  "language_info": {
   "codemirror_mode": {
    "name": "ipython",
    "version": 3
   },
   "file_extension": ".py",
   "mimetype": "text/x-python",
   "name": "python",
   "nbconvert_exporter": "python",
   "pygments_lexer": "ipython3",
   "version": "3.7.4"
  }
 },
 "nbformat": 4,
 "nbformat_minor": 4
}
