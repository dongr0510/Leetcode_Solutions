{
 "cells": [
  {
   "cell_type": "code",
   "execution_count": 16,
   "metadata": {},
   "outputs": [],
   "source": [
    "def isHappy(n: int) -> bool:\n",
    "        visited =set()\n",
    "        def helper(n):\n",
    "            str_n = str(n)\n",
    "            print ('str_n', str_n)\n",
    "            if str_n not in visited:\n",
    "                visited.add(str_n)\n",
    "                next_n = 0\n",
    "                for i in str_n:\n",
    "                    print ('i', i)\n",
    "                    next_n  += int(i)*int(i)\n",
    "                    print ('next_n', next_n)\n",
    "                if next_n == 1:\n",
    "                    return True\n",
    "                else:\n",
    "                    return helper(next_n)\n",
    "            else:\n",
    "                return False\n",
    "        \n",
    "        return helper(n)"
   ]
  },
  {
   "cell_type": "code",
   "execution_count": 17,
   "metadata": {},
   "outputs": [
    {
     "name": "stdout",
     "output_type": "stream",
     "text": [
      "str_n 2\n",
      "i 2\n",
      "next_n 4\n",
      "str_n 4\n",
      "i 4\n",
      "next_n 16\n",
      "str_n 16\n",
      "i 1\n",
      "next_n 1\n",
      "i 6\n",
      "next_n 37\n",
      "str_n 37\n",
      "i 3\n",
      "next_n 9\n",
      "i 7\n",
      "next_n 58\n",
      "str_n 58\n",
      "i 5\n",
      "next_n 25\n",
      "i 8\n",
      "next_n 89\n",
      "str_n 89\n",
      "i 8\n",
      "next_n 64\n",
      "i 9\n",
      "next_n 145\n",
      "str_n 145\n",
      "i 1\n",
      "next_n 1\n",
      "i 4\n",
      "next_n 17\n",
      "i 5\n",
      "next_n 42\n",
      "str_n 42\n",
      "i 4\n",
      "next_n 16\n",
      "i 2\n",
      "next_n 20\n",
      "str_n 20\n",
      "i 2\n",
      "next_n 4\n",
      "i 0\n",
      "next_n 4\n",
      "str_n 4\n"
     ]
    },
    {
     "data": {
      "text/plain": [
       "False"
      ]
     },
     "execution_count": 17,
     "metadata": {},
     "output_type": "execute_result"
    }
   ],
   "source": [
    "isHappy(2)"
   ]
  },
  {
   "cell_type": "code",
   "execution_count": 18,
   "metadata": {},
   "outputs": [
    {
     "name": "stdout",
     "output_type": "stream",
     "text": [
      "str_n 16\n",
      "i 1\n",
      "next_n 1\n",
      "i 6\n",
      "next_n 37\n",
      "str_n 37\n",
      "i 3\n",
      "next_n 9\n",
      "i 7\n",
      "next_n 58\n",
      "str_n 58\n",
      "i 5\n",
      "next_n 25\n",
      "i 8\n",
      "next_n 89\n",
      "str_n 89\n",
      "i 8\n",
      "next_n 64\n",
      "i 9\n",
      "next_n 145\n",
      "str_n 145\n",
      "i 1\n",
      "next_n 1\n",
      "i 4\n",
      "next_n 17\n",
      "i 5\n",
      "next_n 42\n",
      "str_n 42\n",
      "i 4\n",
      "next_n 16\n",
      "i 2\n",
      "next_n 20\n",
      "str_n 20\n",
      "i 2\n",
      "next_n 4\n",
      "i 0\n",
      "next_n 4\n",
      "str_n 4\n",
      "i 4\n",
      "next_n 16\n",
      "str_n 16\n"
     ]
    },
    {
     "data": {
      "text/plain": [
       "False"
      ]
     },
     "execution_count": 18,
     "metadata": {},
     "output_type": "execute_result"
    }
   ],
   "source": [
    "isHappy(16)"
   ]
  },
  {
   "cell_type": "code",
   "execution_count": null,
   "metadata": {},
   "outputs": [],
   "source": []
  }
 ],
 "metadata": {
  "kernelspec": {
   "display_name": "Python 3",
   "language": "python",
   "name": "python3"
  },
  "language_info": {
   "codemirror_mode": {
    "name": "ipython",
    "version": 3
   },
   "file_extension": ".py",
   "mimetype": "text/x-python",
   "name": "python",
   "nbconvert_exporter": "python",
   "pygments_lexer": "ipython3",
   "version": "3.7.4"
  }
 },
 "nbformat": 4,
 "nbformat_minor": 4
}
