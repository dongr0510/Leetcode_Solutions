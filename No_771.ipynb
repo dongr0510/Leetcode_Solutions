{
 "cells": [
  {
   "cell_type": "code",
   "execution_count": 4,
   "metadata": {},
   "outputs": [],
   "source": [
    "import numpy as np"
   ]
  },
  {
   "cell_type": "code",
   "execution_count": 11,
   "metadata": {},
   "outputs": [],
   "source": [
    "a = np.array([i for i in range(10)]).reshape(2,5)"
   ]
  },
  {
   "cell_type": "code",
   "execution_count": 12,
   "metadata": {
    "scrolled": true
   },
   "outputs": [
    {
     "data": {
      "text/plain": [
       "array([[0, 1, 2, 3, 4],\n",
       "       [5, 6, 7, 8, 9]])"
      ]
     },
     "execution_count": 12,
     "metadata": {},
     "output_type": "execute_result"
    }
   ],
   "source": [
    "a"
   ]
  },
  {
   "cell_type": "code",
   "execution_count": 22,
   "metadata": {},
   "outputs": [
    {
     "data": {
      "text/plain": [
       "array([[ True,  True,  True,  True,  True],\n",
       "       [ True,  True,  True,  True,  True]])"
      ]
     },
     "execution_count": 22,
     "metadata": {},
     "output_type": "execute_result"
    }
   ],
   "source": [
    "a == b"
   ]
  },
  {
   "cell_type": "code",
   "execution_count": 21,
   "metadata": {},
   "outputs": [],
   "source": [
    "b = np.array([[0,1,2,3,4], [5,6,7,8,9]])"
   ]
  },
  {
   "cell_type": "code",
   "execution_count": 23,
   "metadata": {},
   "outputs": [
    {
     "data": {
      "text/plain": [
       "True"
      ]
     },
     "execution_count": 23,
     "metadata": {},
     "output_type": "execute_result"
    }
   ],
   "source": [
    "np.sum(a == b) == row*col"
   ]
  },
  {
   "cell_type": "code",
   "execution_count": 29,
   "metadata": {},
   "outputs": [],
   "source": [
    "a = np.argwhere(b==6)"
   ]
  },
  {
   "cell_type": "code",
   "execution_count": 30,
   "metadata": {},
   "outputs": [
    {
     "data": {
      "text/plain": [
       "array([[1, 1]])"
      ]
     },
     "execution_count": 30,
     "metadata": {},
     "output_type": "execute_result"
    }
   ],
   "source": [
    "a"
   ]
  },
  {
   "cell_type": "code",
   "execution_count": 33,
   "metadata": {},
   "outputs": [],
   "source": [
    "row,col = a[0]"
   ]
  },
  {
   "cell_type": "code",
   "execution_count": 34,
   "metadata": {},
   "outputs": [
    {
     "data": {
      "text/plain": [
       "1"
      ]
     },
     "execution_count": 34,
     "metadata": {},
     "output_type": "execute_result"
    }
   ],
   "source": [
    "row"
   ]
  },
  {
   "cell_type": "code",
   "execution_count": 35,
   "metadata": {},
   "outputs": [],
   "source": [
    "moving_directions = [(1,0), (-1, 0), (0, 1), [0, -1]]"
   ]
  },
  {
   "cell_type": "code",
   "execution_count": 36,
   "metadata": {},
   "outputs": [
    {
     "name": "stdout",
     "output_type": "stream",
     "text": [
      "1 0\n",
      "-1 0\n",
      "0 1\n",
      "0 -1\n"
     ]
    }
   ],
   "source": [
    "for a,b in moving_directions:\n",
    "    print (a,b)"
   ]
  },
  {
   "cell_type": "code",
   "execution_count": 37,
   "metadata": {},
   "outputs": [],
   "source": [
    "temp = set()"
   ]
  },
  {
   "cell_type": "code",
   "execution_count": 38,
   "metadata": {},
   "outputs": [],
   "source": [
    "temp.add(b)"
   ]
  },
  {
   "cell_type": "code",
   "execution_count": 39,
   "metadata": {},
   "outputs": [
    {
     "data": {
      "text/plain": [
       "True"
      ]
     },
     "execution_count": 39,
     "metadata": {},
     "output_type": "execute_result"
    }
   ],
   "source": [
    "b in temp"
   ]
  },
  {
   "cell_type": "code",
   "execution_count": 42,
   "metadata": {},
   "outputs": [],
   "source": [
    "import numpy as np\n",
    "import copy\n",
    "def movesToSolve(puzzle):\n",
    "    # Write your code here\n",
    "    # It's like finding the shortest path in a graph, and each node represents a situation, if one situation can reach to another situation in one step, then we can use an edge to connect those two situations.\n",
    "    # Using BFS: 1. terminate condition\n",
    "               # 2. a set to track visited node, avoiding cycle\n",
    "    \n",
    "\n",
    "    row = len(puzzle)\n",
    "    col = len(puzzle[0])\n",
    "    terminate = [i for i in range(row*col)]\n",
    "    # terminate conditions\n",
    "    terminate_matrix = np.array(terminate).reshape(row, col)\n",
    "    visited = []\n",
    "    step = 0\n",
    "    moving_directions = [(1,0), (-1, 0), (0, 1), [0, -1]]\n",
    "    \n",
    "    exist_situation = [np.array(puzzle)]\n",
    "    while exist_situation:\n",
    "        next_situation = []\n",
    "        for each_situation in exist_situation:\n",
    "            print (each_situation)\n",
    "            # check if equal to terminate condition\n",
    "            if np.sum(each_situation == terminate_matrix) == row*col:\n",
    "                return step\n",
    "            if each_situation not in visited:\n",
    "                visited.append(each_situation)\n",
    "\n",
    "                # find index of 0\n",
    "                idx = np.argwhere(each_situation==0)\n",
    "                row_0, col_0 = idx[0]\n",
    "                # exchange positions for four directions\n",
    "                for h, v in moving_directions:\n",
    "                    x_temp = row_0 + h\n",
    "                    y_temp = col_0 + v\n",
    "                # check boundary\n",
    "                    if 0<=x_temp<row and 0 <=y_temp<col:\n",
    "                        copy_situation = copy.deepcopy(each_situation)\n",
    "                        copy_situation[row_0][col_0], copy_situation[x_temp][y_temp] = copy_situation[x_temp][y_temp], copy_situation[row_0][col_0]\n",
    "                    next_situation.append(copy_situation)\n",
    "        step+=1\n",
    "        exist_situation = next_situation\n",
    "    \n",
    "    return -1"
   ]
  },
  {
   "cell_type": "code",
   "execution_count": 43,
   "metadata": {
    "scrolled": true
   },
   "outputs": [
    {
     "name": "stdout",
     "output_type": "stream",
     "text": [
      "[[1 0 2]\n",
      " [3 4 5]\n",
      " [6 7 8]]\n",
      "[[1 4 2]\n",
      " [3 0 5]\n",
      " [6 7 8]]\n"
     ]
    },
    {
     "ename": "ValueError",
     "evalue": "The truth value of an array with more than one element is ambiguous. Use a.any() or a.all()",
     "output_type": "error",
     "traceback": [
      "\u001b[0;31m---------------------------------------------------------------------------\u001b[0m",
      "\u001b[0;31mValueError\u001b[0m                                Traceback (most recent call last)",
      "\u001b[0;32m<ipython-input-43-f78f10fbbcea>\u001b[0m in \u001b[0;36m<module>\u001b[0;34m\u001b[0m\n\u001b[0;32m----> 1\u001b[0;31m \u001b[0mmovesToSolve\u001b[0m\u001b[0;34m(\u001b[0m\u001b[0;34m[\u001b[0m\u001b[0;34m[\u001b[0m\u001b[0;36m1\u001b[0m\u001b[0;34m,\u001b[0m \u001b[0;36m0\u001b[0m\u001b[0;34m,\u001b[0m \u001b[0;36m2\u001b[0m\u001b[0;34m]\u001b[0m\u001b[0;34m,\u001b[0m\u001b[0;34m[\u001b[0m\u001b[0;36m3\u001b[0m\u001b[0;34m,\u001b[0m \u001b[0;36m4\u001b[0m\u001b[0;34m,\u001b[0m \u001b[0;36m5\u001b[0m\u001b[0;34m]\u001b[0m\u001b[0;34m,\u001b[0m\u001b[0;34m[\u001b[0m\u001b[0;36m6\u001b[0m\u001b[0;34m,\u001b[0m \u001b[0;36m7\u001b[0m\u001b[0;34m,\u001b[0m \u001b[0;36m8\u001b[0m\u001b[0;34m]\u001b[0m\u001b[0;34m]\u001b[0m\u001b[0;34m)\u001b[0m\u001b[0;34m\u001b[0m\u001b[0;34m\u001b[0m\u001b[0m\n\u001b[0m",
      "\u001b[0;32m<ipython-input-42-3bc97d884e28>\u001b[0m in \u001b[0;36mmovesToSolve\u001b[0;34m(puzzle)\u001b[0m\n\u001b[1;32m     25\u001b[0m             \u001b[0;32mif\u001b[0m \u001b[0mnp\u001b[0m\u001b[0;34m.\u001b[0m\u001b[0msum\u001b[0m\u001b[0;34m(\u001b[0m\u001b[0meach_situation\u001b[0m \u001b[0;34m==\u001b[0m \u001b[0mterminate_matrix\u001b[0m\u001b[0;34m)\u001b[0m \u001b[0;34m==\u001b[0m \u001b[0mrow\u001b[0m\u001b[0;34m*\u001b[0m\u001b[0mcol\u001b[0m\u001b[0;34m:\u001b[0m\u001b[0;34m\u001b[0m\u001b[0;34m\u001b[0m\u001b[0m\n\u001b[1;32m     26\u001b[0m                 \u001b[0;32mreturn\u001b[0m \u001b[0mstep\u001b[0m\u001b[0;34m\u001b[0m\u001b[0;34m\u001b[0m\u001b[0m\n\u001b[0;32m---> 27\u001b[0;31m             \u001b[0;32mif\u001b[0m \u001b[0meach_situation\u001b[0m \u001b[0;32mnot\u001b[0m \u001b[0;32min\u001b[0m \u001b[0mvisited\u001b[0m\u001b[0;34m:\u001b[0m\u001b[0;34m\u001b[0m\u001b[0;34m\u001b[0m\u001b[0m\n\u001b[0m\u001b[1;32m     28\u001b[0m                 \u001b[0mvisited\u001b[0m\u001b[0;34m.\u001b[0m\u001b[0mappend\u001b[0m\u001b[0;34m(\u001b[0m\u001b[0meach_situation\u001b[0m\u001b[0;34m)\u001b[0m\u001b[0;34m\u001b[0m\u001b[0;34m\u001b[0m\u001b[0m\n\u001b[1;32m     29\u001b[0m \u001b[0;34m\u001b[0m\u001b[0m\n",
      "\u001b[0;31mValueError\u001b[0m: The truth value of an array with more than one element is ambiguous. Use a.any() or a.all()"
     ]
    }
   ],
   "source": [
    "movesToSolve([[1, 0, 2],[3, 4, 5],[6, 7, 8]])"
   ]
  },
  {
   "cell_type": "code",
   "execution_count": null,
   "metadata": {},
   "outputs": [],
   "source": []
  },
  {
   "cell_type": "code",
   "execution_count": 48,
   "metadata": {},
   "outputs": [],
   "source": [
    "import numpy as np\n",
    "import copy\n",
    "def movesToSolve(puzzle):\n",
    "    # Write your code here\n",
    "    # It's like finding the shortest path in a graph, and each node represents a situation, if one situation can reach to another situation in one step, then we can use an edge to connect those two situations.\n",
    "    # Using BFS: 1. terminate condition\n",
    "               # 2. a set to track visited node, avoiding cycle\n",
    "    \n",
    "\n",
    "    row = len(puzzle)\n",
    "    col = len(puzzle[0])\n",
    "    terminate = [i for i in range(row*col)]\n",
    "    # terminate conditions\n",
    "    puzzle_ = [i for i in range(row*col)]\n",
    "    for i in range(row):\n",
    "        for j in range(col):\n",
    "            puzzle_[i*col+j] = puzzle[i][j]\n",
    "            \n",
    "    \n",
    "    visited = set()\n",
    "    step = 0\n",
    "    moving_directions = [(1,0), (-1, 0), (0, 1), [0, -1]]\n",
    "    \n",
    "    exist_situation = [puzzle_]\n",
    "    while exist_situation:\n",
    "        next_situation = []\n",
    "        for each_situation in exist_situation:\n",
    "            # check if equal to terminate condition\n",
    "            if each_situation == terminate:\n",
    "                return step\n",
    "            if tuple(each_situation) not in visited:\n",
    "                visited.add(tuple(each_situation))\n",
    "\n",
    "                # find index of 0\n",
    "                idx = each_situation.index(0)\n",
    "                print (idx)\n",
    "                row_0, col_0 = divmod(idx, col)\n",
    "                # exchange positions for four directions\n",
    "                for h, v in moving_directions:\n",
    "                    x_temp = row_0 + h\n",
    "                    y_temp = col_0 + v\n",
    "                # check boundary\n",
    "                    if 0<=x_temp<row and 0 <=y_temp<col:\n",
    "                        copy_situation = copy.deepcopy(each_situation)\n",
    "                        copy_situation[x_temp*col+y_temp], copy_situation[idx] = copy_situation[idx], copy_situation[x_temp*col+y_temp]\n",
    "                    next_situation.append(copy_situation)\n",
    "        step+=1\n",
    "        exist_situation = next_situation\n",
    "    \n",
    "    return -1"
   ]
  },
  {
   "cell_type": "code",
   "execution_count": 49,
   "metadata": {},
   "outputs": [
    {
     "name": "stdout",
     "output_type": "stream",
     "text": [
      "1\n",
      "4\n",
      "2\n"
     ]
    },
    {
     "data": {
      "text/plain": [
       "1"
      ]
     },
     "execution_count": 49,
     "metadata": {},
     "output_type": "execute_result"
    }
   ],
   "source": [
    "movesToSolve([[1, 0, 2],[3, 4, 5],[6, 7, 8]])"
   ]
  },
  {
   "cell_type": "code",
   "execution_count": null,
   "metadata": {},
   "outputs": [],
   "source": []
  }
 ],
 "metadata": {
  "kernelspec": {
   "display_name": "Python 3",
   "language": "python",
   "name": "python3"
  },
  "language_info": {
   "codemirror_mode": {
    "name": "ipython",
    "version": 3
   },
   "file_extension": ".py",
   "mimetype": "text/x-python",
   "name": "python",
   "nbconvert_exporter": "python",
   "pygments_lexer": "ipython3",
   "version": "3.7.4"
  }
 },
 "nbformat": 4,
 "nbformat_minor": 4
}
