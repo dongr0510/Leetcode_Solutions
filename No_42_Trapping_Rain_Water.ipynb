{
 "cells": [
  {
   "cell_type": "code",
   "execution_count": 9,
   "metadata": {},
   "outputs": [],
   "source": [
    "def trap(height):\n",
    "        lst = [0 for _ in range(len(height))]\n",
    "        for i in range(1, len(height)):\n",
    "            print ('height[0:i]', height[0:i])\n",
    "            print ('height[i:]', height[i:])\n",
    "            lst[i] = min(max(height[0:i]), max(height[i:])) - height[i]\n",
    "            print (height[i])\n",
    "            print (lst[i])\n",
    "        result = sum(lst)\n",
    "        return result"
   ]
  },
  {
   "cell_type": "code",
   "execution_count": 10,
   "metadata": {},
   "outputs": [
    {
     "name": "stdout",
     "output_type": "stream",
     "text": [
      "height[0:i] [0]\n",
      "height[i:] [1, 0, 2, 1, 0, 1, 3, 2, 1, 2, 1]\n",
      "1\n",
      "-1\n",
      "height[0:i] [0, 1]\n",
      "height[i:] [0, 2, 1, 0, 1, 3, 2, 1, 2, 1]\n",
      "0\n",
      "1\n",
      "height[0:i] [0, 1, 0]\n",
      "height[i:] [2, 1, 0, 1, 3, 2, 1, 2, 1]\n",
      "2\n",
      "-1\n",
      "height[0:i] [0, 1, 0, 2]\n",
      "height[i:] [1, 0, 1, 3, 2, 1, 2, 1]\n",
      "1\n",
      "1\n",
      "height[0:i] [0, 1, 0, 2, 1]\n",
      "height[i:] [0, 1, 3, 2, 1, 2, 1]\n",
      "0\n",
      "2\n",
      "height[0:i] [0, 1, 0, 2, 1, 0]\n",
      "height[i:] [1, 3, 2, 1, 2, 1]\n",
      "1\n",
      "1\n",
      "height[0:i] [0, 1, 0, 2, 1, 0, 1]\n",
      "height[i:] [3, 2, 1, 2, 1]\n",
      "3\n",
      "-1\n",
      "height[0:i] [0, 1, 0, 2, 1, 0, 1, 3]\n",
      "height[i:] [2, 1, 2, 1]\n",
      "2\n",
      "0\n",
      "height[0:i] [0, 1, 0, 2, 1, 0, 1, 3, 2]\n",
      "height[i:] [1, 2, 1]\n",
      "1\n",
      "1\n",
      "height[0:i] [0, 1, 0, 2, 1, 0, 1, 3, 2, 1]\n",
      "height[i:] [2, 1]\n",
      "2\n",
      "0\n",
      "height[0:i] [0, 1, 0, 2, 1, 0, 1, 3, 2, 1, 2]\n",
      "height[i:] [1]\n",
      "1\n",
      "0\n"
     ]
    },
    {
     "data": {
      "text/plain": [
       "3"
      ]
     },
     "execution_count": 10,
     "metadata": {},
     "output_type": "execute_result"
    }
   ],
   "source": [
    "trap([0,1,0,2,1,0,1,3,2,1,2,1])"
   ]
  },
  {
   "cell_type": "code",
   "execution_count": null,
   "metadata": {},
   "outputs": [],
   "source": []
  }
 ],
 "metadata": {
  "kernelspec": {
   "display_name": "Python 3",
   "language": "python",
   "name": "python3"
  },
  "language_info": {
   "codemirror_mode": {
    "name": "ipython",
    "version": 3
   },
   "file_extension": ".py",
   "mimetype": "text/x-python",
   "name": "python",
   "nbconvert_exporter": "python",
   "pygments_lexer": "ipython3",
   "version": "3.7.4"
  }
 },
 "nbformat": 4,
 "nbformat_minor": 4
}
