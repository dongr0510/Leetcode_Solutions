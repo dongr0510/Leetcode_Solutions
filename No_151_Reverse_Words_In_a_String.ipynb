{
 "cells": [
  {
   "cell_type": "code",
   "execution_count": 5,
   "metadata": {},
   "outputs": [],
   "source": [
    "def reverseWords(s):\n",
    "    s = s.strip()\n",
    "    s_lst = s.split()\n",
    "    s_rev = s_lst[::-1]\n",
    "    return ' '.join(s_rev)"
   ]
  },
  {
   "cell_type": "code",
   "execution_count": 6,
   "metadata": {},
   "outputs": [
    {
     "data": {
      "text/plain": [
       "'example good a'"
      ]
     },
     "execution_count": 6,
     "metadata": {},
     "output_type": "execute_result"
    }
   ],
   "source": [
    "reverseWords(\"a good   example\")"
   ]
  },
  {
   "cell_type": "code",
   "execution_count": null,
   "metadata": {},
   "outputs": [],
   "source": [
    "class Solution:\n",
    "    def trim_spaces(self, s: str) -> list:\n",
    "        left, right = 0, len(s) - 1\n",
    "        # 去掉字符串开头的空白字符\n",
    "        while left <= right and s[left] == ' ':\n",
    "            left += 1\n",
    "        \n",
    "        # 去掉字符串末尾的空白字符\n",
    "        while left <= right and s[right] == ' ':\n",
    "            right -= 1\n",
    "        \n",
    "        # 将字符串间多余的空白字符去除\n",
    "        output = []\n",
    "        while left <= right:\n",
    "            if s[left] != ' ':\n",
    "                output.append(s[left])\n",
    "            elif output[-1] != ' ':\n",
    "                output.append(s[left])\n",
    "            left += 1\n",
    "        \n",
    "        return output\n",
    "            \n",
    "    def reverse(self, l: list, left: int, right: int) -> None:\n",
    "        while left < right:\n",
    "            l[left], l[right] = l[right], l[left]\n",
    "            left, right = left + 1, right - 1\n",
    "            \n",
    "    def reverse_each_word(self, l: list) -> None:\n",
    "        n = len(l)\n",
    "        start = end = 0\n",
    "        \n",
    "        while start < n:\n",
    "            # 循环至单词的末尾\n",
    "            while end < n and l[end] != ' ':\n",
    "                end += 1\n",
    "            # 翻转单词\n",
    "            self.reverse(l, start, end - 1)\n",
    "            # 更新start，去找下一个单词\n",
    "            start = end + 1\n",
    "            end += 1\n",
    "                \n",
    "    def reverseWords(self, s: str) -> str:\n",
    "        l = self.trim_spaces(s)\n",
    "        \n",
    "        # 翻转字符串\n",
    "        self.reverse(l, 0, len(l) - 1)\n",
    "        \n",
    "        # 翻转每个单词\n",
    "        self.reverse_each_word(l)\n",
    "        \n",
    "        return ''.join(l)\n",
    "\n",
    "作者：LeetCode-Solution\n",
    "链接：https://leetcode-cn.com/problems/reverse-words-in-a-string/solution/fan-zhuan-zi-fu-chuan-li-de-dan-ci-by-leetcode-sol/\n",
    "来源：力扣（LeetCode）\n",
    "著作权归作者所有。商业转载请联系作者获得授权，非商业转载请注明出处。"
   ]
  }
 ],
 "metadata": {
  "kernelspec": {
   "display_name": "Python 3",
   "language": "python",
   "name": "python3"
  },
  "language_info": {
   "codemirror_mode": {
    "name": "ipython",
    "version": 3
   },
   "file_extension": ".py",
   "mimetype": "text/x-python",
   "name": "python",
   "nbconvert_exporter": "python",
   "pygments_lexer": "ipython3",
   "version": "3.7.4"
  }
 },
 "nbformat": 4,
 "nbformat_minor": 4
}
