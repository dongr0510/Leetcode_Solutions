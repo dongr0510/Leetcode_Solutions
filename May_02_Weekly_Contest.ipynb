{
 "cells": [
  {
   "cell_type": "code",
   "execution_count": 27,
   "metadata": {},
   "outputs": [],
   "source": [
    "def destCity(paths):\n",
    "        ans_set = set()\n",
    "        temp = set()\n",
    "        for i in paths:\n",
    "            if i[0] in ans_set:\n",
    "                ans_set.remove(i[0])\n",
    "                if i[1] not in temp:\n",
    "                    ans_set.add(i[1])\n",
    "            else:\n",
    "                temp.add(i[0])\n",
    "                if i[1] not in temp:\n",
    "                    ans_set.add(i[1])\n",
    "                else:\n",
    "                    temp.remove(i[1])\n",
    "           \n",
    "        return ans_set.pop()"
   ]
  },
  {
   "cell_type": "code",
   "execution_count": 28,
   "metadata": {},
   "outputs": [
    {
     "data": {
      "text/plain": [
       "'Z'"
      ]
     },
     "execution_count": 28,
     "metadata": {},
     "output_type": "execute_result"
    }
   ],
   "source": [
    "destCity([[\"A\",\"Z\"]])"
   ]
  },
  {
   "cell_type": "code",
   "execution_count": 29,
   "metadata": {},
   "outputs": [],
   "source": [
    "a = float('-inf')"
   ]
  },
  {
   "cell_type": "code",
   "execution_count": 30,
   "metadata": {},
   "outputs": [],
   "source": [
    "b = 0"
   ]
  },
  {
   "cell_type": "code",
   "execution_count": 31,
   "metadata": {},
   "outputs": [
    {
     "data": {
      "text/plain": [
       "True"
      ]
     },
     "execution_count": 31,
     "metadata": {},
     "output_type": "execute_result"
    }
   ],
   "source": [
    "b - a >= 100"
   ]
  },
  {
   "cell_type": "code",
   "execution_count": 37,
   "metadata": {},
   "outputs": [],
   "source": [
    "def kLengthApart(nums, k):\n",
    "        least_one_idx = float('-inf')\n",
    "        for i in range(len(nums)):\n",
    "            if nums[i] == 1:\n",
    "                if i - least_one_idx > k:\n",
    "                    least_one_idx = i\n",
    "                    continue\n",
    "                else:\n",
    "                    return False\n",
    "        return True"
   ]
  },
  {
   "cell_type": "code",
   "execution_count": 38,
   "metadata": {},
   "outputs": [
    {
     "data": {
      "text/plain": [
       "False"
      ]
     },
     "execution_count": 38,
     "metadata": {},
     "output_type": "execute_result"
    }
   ],
   "source": [
    "kLengthApart(nums = [1,0,0,1,0,1], k = 2)"
   ]
  },
  {
   "cell_type": "code",
   "execution_count": 85,
   "metadata": {},
   "outputs": [],
   "source": [
    "def longestSubarray(nums, limit):\n",
    "        if len(nums) == 1:\n",
    "            return 1\n",
    "        left, right = 0, 1\n",
    "        min_element = nums[0]\n",
    "        max_element = nums[0]\n",
    "        ans = 0\n",
    "        \n",
    "        while left < len(nums):\n",
    "            print (left, 'left')\n",
    "            print (right, 'right')\n",
    "            if nums[left:right+1]:\n",
    "                min_element = min(nums[left:right+1])\n",
    "                max_element = max(nums[left:right+1])\n",
    "#                 print ('min1', min_element)\n",
    "#                 print ('max1', max_element)\n",
    "            while left <= right and right < len(nums):\n",
    "                min_element = min(nums[right], min_element)\n",
    "                max_element = max(nums[right], max_element)\n",
    "                max_diff = max_element - min_element\n",
    "\n",
    "                if max_diff > limit:\n",
    "                    ans = max(right - left, ans)\n",
    "                    print ('ans', ans)\n",
    "                    break\n",
    "                else:\n",
    "                    right += 1\n",
    "                    ans = max(right - left, ans)\n",
    "                \n",
    "            left += 1\n",
    "\n",
    "        return ans"
   ]
  },
  {
   "cell_type": "code",
   "execution_count": 86,
   "metadata": {},
   "outputs": [
    {
     "name": "stdout",
     "output_type": "stream",
     "text": [
      "0 left\n",
      "1 right\n",
      "ans 1\n",
      "1 left\n",
      "1 right\n",
      "ans 3\n",
      "2 left\n",
      "4 right\n",
      "3 left\n",
      "6 right\n",
      "4 left\n",
      "6 right\n",
      "5 left\n",
      "6 right\n"
     ]
    },
    {
     "data": {
      "text/plain": [
       "4"
      ]
     },
     "execution_count": 86,
     "metadata": {},
     "output_type": "execute_result"
    }
   ],
   "source": [
    "longestSubarray([10,1,2,4,7,2], 5)"
   ]
  },
  {
   "cell_type": "code",
   "execution_count": null,
   "metadata": {},
   "outputs": [],
   "source": []
  }
 ],
 "metadata": {
  "kernelspec": {
   "display_name": "Python 3",
   "language": "python",
   "name": "python3"
  },
  "language_info": {
   "codemirror_mode": {
    "name": "ipython",
    "version": 3
   },
   "file_extension": ".py",
   "mimetype": "text/x-python",
   "name": "python",
   "nbconvert_exporter": "python",
   "pygments_lexer": "ipython3",
   "version": "3.7.4"
  }
 },
 "nbformat": 4,
 "nbformat_minor": 4
}
