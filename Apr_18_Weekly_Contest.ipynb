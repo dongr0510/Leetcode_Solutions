{
 "cells": [
  {
   "cell_type": "markdown",
   "metadata": {},
   "source": [
    "给你一个混合了数字和字母的字符串 s，其中的字母均为小写英文字母。\n",
    "\n",
    "请你将该字符串重新格式化，使得任意两个相邻字符的类型都不同。也就是说，字母后面应该跟着数字，而数字后面应该跟着字母。\n",
    "\n",
    "请你返回 重新格式化后 的字符串；如果无法按要求重新格式化，则返回一个 空字符串 。"
   ]
  },
  {
   "cell_type": "markdown",
   "metadata": {},
   "source": [
    "* isalpha()\n",
    "* isdigit()"
   ]
  },
  {
   "cell_type": "code",
   "execution_count": 41,
   "metadata": {},
   "outputs": [],
   "source": [
    "s = \"ab123\""
   ]
  },
  {
   "cell_type": "code",
   "execution_count": 42,
   "metadata": {},
   "outputs": [],
   "source": [
    "d = {'digit': 0, 'letter':0}\n",
    "letter_lst = []\n",
    "digit_lst = []\n",
    "for i in s:\n",
    "    if i.isdigit():\n",
    "        d['digit'] += 1\n",
    "        digit_lst.append(i)\n",
    "    elif i.isalpha():\n",
    "        d['letter'] += 1\n",
    "        letter_lst.append(i)"
   ]
  },
  {
   "cell_type": "code",
   "execution_count": 43,
   "metadata": {},
   "outputs": [
    {
     "data": {
      "text/plain": [
       "{'digit': 3, 'letter': 2}"
      ]
     },
     "execution_count": 43,
     "metadata": {},
     "output_type": "execute_result"
    }
   ],
   "source": [
    "d"
   ]
  },
  {
   "cell_type": "code",
   "execution_count": 44,
   "metadata": {},
   "outputs": [
    {
     "data": {
      "text/plain": [
       "['a', 'b']"
      ]
     },
     "execution_count": 44,
     "metadata": {},
     "output_type": "execute_result"
    }
   ],
   "source": [
    "letter_lst"
   ]
  },
  {
   "cell_type": "code",
   "execution_count": 45,
   "metadata": {},
   "outputs": [
    {
     "data": {
      "text/plain": [
       "['1', '2', '3']"
      ]
     },
     "execution_count": 45,
     "metadata": {},
     "output_type": "execute_result"
    }
   ],
   "source": [
    "digit_lst"
   ]
  },
  {
   "cell_type": "code",
   "execution_count": 46,
   "metadata": {},
   "outputs": [],
   "source": [
    "ans = ''\n",
    "if abs(d['digit'] - d['letter']) <= 1:\n",
    "    if d['digit'] > d['letter']:\n",
    "        for i in range(d['letter']):\n",
    "            ans += digit_lst[i]\n",
    "            ans += letter_lst[i]\n",
    "        ans += digit_lst[-1]\n",
    "    elif d['digit'] == d['letter']:\n",
    "        for i in range(d['letter']):\n",
    "            ans += letter_lst[i]\n",
    "            ans += digit_lst[i]\n",
    "    else:\n",
    "        for i in range(d['digit']):\n",
    "            ans += letter_lst[i]\n",
    "            ans += digit_lst[i]\n",
    "        ans += letter_lst[-1]\n",
    "else:\n",
    "    print (ans)"
   ]
  },
  {
   "cell_type": "code",
   "execution_count": 47,
   "metadata": {},
   "outputs": [
    {
     "data": {
      "text/plain": [
       "'1a2b3'"
      ]
     },
     "execution_count": 47,
     "metadata": {},
     "output_type": "execute_result"
    }
   ],
   "source": [
    "ans"
   ]
  },
  {
   "cell_type": "code",
   "execution_count": 48,
   "metadata": {},
   "outputs": [],
   "source": [
    "\n",
    "def reformat(s):\n",
    "        d = {'digit': 0, 'letter':0}\n",
    "        letter_lst = []\n",
    "        digit_lst = []\n",
    "        for i in s:\n",
    "            if i.isdigit():\n",
    "                d['digit'] += 1\n",
    "                digit_lst.append(i)\n",
    "            elif i.isalpha():\n",
    "                d['letter'] += 1\n",
    "                letter_lst.append(i)\n",
    "        ans = ''\n",
    "        if abs(d['digit'] - d['letter']) <= 1:\n",
    "            if d['digit'] > d['letter']:\n",
    "                for i in range(d['letter']):\n",
    "                    ans += digit_lst[i]\n",
    "                    ans += letter_lst[i]\n",
    "                ans += digit_lst[-1]\n",
    "            elif d['digit'] == d['letter']:\n",
    "                for i in range(d['letter']):\n",
    "                    ans += letter_lst[i]\n",
    "                    ans += digit_lst[i]\n",
    "            else:\n",
    "                for i in range(d['digit']):\n",
    "                    ans += letter_lst[i]\n",
    "                    ans += digit_lst[i]\n",
    "                ans += letter_lst[-1]\n",
    "            return ans\n",
    "        else:\n",
    "            return ans"
   ]
  },
  {
   "cell_type": "code",
   "execution_count": 52,
   "metadata": {},
   "outputs": [
    {
     "data": {
      "text/plain": [
       "''"
      ]
     },
     "execution_count": 52,
     "metadata": {},
     "output_type": "execute_result"
    }
   ],
   "source": [
    "reformat('leetcode')"
   ]
  },
  {
   "cell_type": "markdown",
   "metadata": {},
   "source": [
    "## Question 2 \n",
    "给你一个数组 orders，表示客户在餐厅中完成的订单，确切地说， orders[i]=[customerNamei,tableNumberi,foodItemi] ，其中 customerNamei 是客户的姓名，tableNumberi 是客户所在餐桌的桌号，而 foodItemi 是客户点的餐品名称。\n",
    "\n",
    "请你返回该餐厅的 点菜展示表 。在这张表中，表中第一行为标题，其第一列为餐桌桌号 “Table” ，后面每一列都是按字母顺序排列的餐品名称。接下来每一行中的项则表示每张餐桌订购的相应餐品数量，第一列应当填对应的桌号，后面依次填写下单的餐品数量。\n",
    "\n",
    "注意：客户姓名不是点菜展示表的一部分。此外，表中的数据行应该按餐桌桌号升序排列。"
   ]
  },
  {
   "cell_type": "code",
   "execution_count": 54,
   "metadata": {},
   "outputs": [],
   "source": [
    "orders = [[\"David\",\"3\",\"Ceviche\"],[\"Corina\",\"10\",\"Beef Burrito\"],[\"David\",\"3\",\"Fried Chicken\"],[\"Carla\",\"5\",\"Water\"],[\"Carla\",\"5\",\"Ceviche\"],[\"Rous\",\"3\",\"Ceviche\"]]"
   ]
  },
  {
   "cell_type": "code",
   "execution_count": 65,
   "metadata": {},
   "outputs": [],
   "source": [
    "table = []\n",
    "food = []\n",
    "for i in orders:\n",
    "    table.append(int(i[1]))\n",
    "    food.append(i[2])\n",
    "table = list(set(table))\n",
    "food = list(set(food))"
   ]
  },
  {
   "cell_type": "code",
   "execution_count": 73,
   "metadata": {},
   "outputs": [],
   "source": [
    "table.sort()\n",
    "table\n",
    "len_table = len(table)"
   ]
  },
  {
   "cell_type": "code",
   "execution_count": 72,
   "metadata": {},
   "outputs": [],
   "source": [
    "food.sort()\n",
    "len_food = len(food)"
   ]
  },
  {
   "cell_type": "code",
   "execution_count": 100,
   "metadata": {},
   "outputs": [],
   "source": [
    "ans = [[0 for i in range(len_food+1)] for _ in range(len_table+1)]"
   ]
  },
  {
   "cell_type": "code",
   "execution_count": 101,
   "metadata": {},
   "outputs": [
    {
     "data": {
      "text/plain": [
       "[[0, 0, 0, 0, 0], [0, 0, 0, 0, 0], [0, 0, 0, 0, 0], [0, 0, 0, 0, 0]]"
      ]
     },
     "execution_count": 101,
     "metadata": {},
     "output_type": "execute_result"
    }
   ],
   "source": [
    "ans"
   ]
  },
  {
   "cell_type": "code",
   "execution_count": 102,
   "metadata": {},
   "outputs": [],
   "source": [
    "for idx in range(1, len(ans[0])):\n",
    "    ans[0][idx] = food[idx-1]"
   ]
  },
  {
   "cell_type": "code",
   "execution_count": 103,
   "metadata": {},
   "outputs": [
    {
     "data": {
      "text/plain": [
       "[[0, 'Beef Burrito', 'Ceviche', 'Fried Chicken', 'Water'],\n",
       " [0, 0, 0, 0, 0],\n",
       " [0, 0, 0, 0, 0],\n",
       " [0, 0, 0, 0, 0]]"
      ]
     },
     "execution_count": 103,
     "metadata": {},
     "output_type": "execute_result"
    }
   ],
   "source": [
    "ans"
   ]
  },
  {
   "cell_type": "code",
   "execution_count": 104,
   "metadata": {},
   "outputs": [
    {
     "data": {
      "text/plain": [
       "['Beef Burrito', 'Ceviche', 'Fried Chicken', 'Water']"
      ]
     },
     "execution_count": 104,
     "metadata": {},
     "output_type": "execute_result"
    }
   ],
   "source": [
    "food"
   ]
  },
  {
   "cell_type": "code",
   "execution_count": 105,
   "metadata": {
    "scrolled": true
   },
   "outputs": [
    {
     "data": {
      "text/plain": [
       "[3, 5, 10]"
      ]
     },
     "execution_count": 105,
     "metadata": {},
     "output_type": "execute_result"
    }
   ],
   "source": [
    "table"
   ]
  },
  {
   "cell_type": "code",
   "execution_count": 106,
   "metadata": {},
   "outputs": [
    {
     "name": "stdout",
     "output_type": "stream",
     "text": [
      "0\n",
      "1\n",
      "2\n",
      "0\n",
      "0\n",
      "2\n",
      "1\n",
      "3\n",
      "1\n",
      "1\n",
      "0\n",
      "1\n"
     ]
    }
   ],
   "source": [
    "for i in orders:\n",
    "    table_idx = table.index(int(i[1]))\n",
    "    food_idx = food.index(i[2])\n",
    "    ans[table_idx+1][food_idx+1] += 1   "
   ]
  },
  {
   "cell_type": "code",
   "execution_count": 107,
   "metadata": {},
   "outputs": [],
   "source": [
    "ans[0][0] = 'Table'"
   ]
  },
  {
   "cell_type": "code",
   "execution_count": 108,
   "metadata": {},
   "outputs": [
    {
     "data": {
      "text/plain": [
       "[['Table', 'Beef Burrito', 'Ceviche', 'Fried Chicken', 'Water'],\n",
       " [0, 0, 2, 1, 0],\n",
       " [0, 0, 1, 0, 1],\n",
       " [0, 1, 0, 0, 0]]"
      ]
     },
     "execution_count": 108,
     "metadata": {},
     "output_type": "execute_result"
    }
   ],
   "source": [
    "ans"
   ]
  },
  {
   "cell_type": "code",
   "execution_count": 109,
   "metadata": {},
   "outputs": [],
   "source": [
    "for i in range(1, len(table)+1):\n",
    "    ans[i][0] = str(table[i-1])\n",
    "    for j in range(1, len(ans[i])):\n",
    "        ans[i][j] = str(ans[i][j])"
   ]
  },
  {
   "cell_type": "code",
   "execution_count": 110,
   "metadata": {},
   "outputs": [
    {
     "data": {
      "text/plain": [
       "[['Table', 'Beef Burrito', 'Ceviche', 'Fried Chicken', 'Water'],\n",
       " ['3', '0', '2', '1', '0'],\n",
       " ['5', '0', '1', '0', '1'],\n",
       " ['10', '1', '0', '0', '0']]"
      ]
     },
     "execution_count": 110,
     "metadata": {},
     "output_type": "execute_result"
    }
   ],
   "source": [
    "ans"
   ]
  },
  {
   "cell_type": "code",
   "execution_count": 112,
   "metadata": {},
   "outputs": [],
   "source": [
    "def displayTable(orders):\n",
    "        table = []\n",
    "        food = []\n",
    "        for i in orders:\n",
    "            table.append(int(i[1]))\n",
    "            food.append(i[2])\n",
    "        table = list(set(table))\n",
    "        food = list(set(food))\n",
    "        \n",
    "        table.sort()\n",
    "        len_table = len(table)\n",
    "        \n",
    "        food.sort()\n",
    "        len_food = len(food)\n",
    "        \n",
    "        ans = [[0 for i in range(len_food+1)] for _ in range(len_table+1)]\n",
    "        \n",
    "        for idx in range(1, len(ans[0])):\n",
    "            ans[0][idx] = food[idx-1]\n",
    "            \n",
    "        for i in orders:\n",
    "            table_idx = table.index(int(i[1]))\n",
    "            food_idx = food.index(i[2])\n",
    "            ans[table_idx+1][food_idx+1] += 1\n",
    "            \n",
    "        ans[0][0] = 'Table'\n",
    "        for i in range(1, len(table)+1):\n",
    "            ans[i][0] = str(table[i-1])\n",
    "            for j in range(1, len(ans[i])):\n",
    "                ans[i][j] = str(ans[i][j])\n",
    "                \n",
    "        return ans"
   ]
  },
  {
   "cell_type": "code",
   "execution_count": 114,
   "metadata": {},
   "outputs": [
    {
     "data": {
      "text/plain": [
       "[['Table', 'Bean Burrito', 'Beef Burrito', 'Soda'], ['2', '1', '1', '1']]"
      ]
     },
     "execution_count": 114,
     "metadata": {},
     "output_type": "execute_result"
    }
   ],
   "source": [
    "displayTable([[\"Laura\",\"2\",\"Bean Burrito\"],[\"Jhon\",\"2\",\"Beef Burrito\"],[\"Melissa\",\"2\",\"Soda\"]])"
   ]
  },
  {
   "cell_type": "markdown",
   "metadata": {},
   "source": [
    "## Question 3"
   ]
  },
  {
   "cell_type": "markdown",
   "metadata": {},
   "source": [
    "给你一个字符串 croakOfFrogs，它表示不同青蛙发出的蛙鸣声（字符串 \"croak\" ）的组合。由于同一时间可以有多只青蛙呱呱作响，所以 croakOfFrogs 中会混合多个 “croak” 。请你返回模拟字符串中所有蛙鸣所需不同青蛙的最少数目。\n",
    "\n",
    "注意：要想发出蛙鸣 \"croak\"，青蛙必须 依序 输出 ‘c’, ’r’, ’o’, ’a’, ’k’ 这 5 个字母。如果没有输出全部五个字母，那么它就不会发出声音。\n",
    "\n",
    "如果字符串 croakOfFrogs 不是由若干有效的 \"croak\" 字符混合而成，请返回 -1 "
   ]
  },
  {
   "cell_type": "code",
   "execution_count": 116,
   "metadata": {},
   "outputs": [],
   "source": [
    "def minNumberOfFrogs(croakOfFrogs):\n",
    "        if len(croakOfFrogs)%5 != 0:\n",
    "            return -1\n",
    "        s = 'croak'\n",
    "        dic = {i:0 for i in s}\n",
    "        ans = -1\n",
    "        for i in croakOfFrogs:\n",
    "            dic[i]+=1\n",
    "            if any(dic[s[i+1]]>dic[s[i]] for i in range(len(s)-1)):\n",
    "                return -1\n",
    "            ans = max(ans,dic[s[0]])\n",
    "            if dic[s[-1]]==1:\n",
    "                for i in s:\n",
    "                    dic[i]-=1\n",
    "        return -1 if dic[s[0]] else ans"
   ]
  },
  {
   "cell_type": "code",
   "execution_count": 120,
   "metadata": {},
   "outputs": [
    {
     "data": {
      "text/plain": [
       "True"
      ]
     },
     "execution_count": 120,
     "metadata": {},
     "output_type": "execute_result"
    }
   ],
   "source": [
    "minNumberOfFrogs(\"croakcroak\")"
   ]
  },
  {
   "cell_type": "code",
   "execution_count": 121,
   "metadata": {},
   "outputs": [
    {
     "data": {
      "text/plain": [
       "4950"
      ]
     },
     "execution_count": 121,
     "metadata": {},
     "output_type": "execute_result"
    }
   ],
   "source": [
    "99*50"
   ]
  },
  {
   "cell_type": "code",
   "execution_count": 124,
   "metadata": {},
   "outputs": [
    {
     "data": {
      "text/plain": [
       "33554432"
      ]
     },
     "execution_count": 124,
     "metadata": {},
     "output_type": "execute_result"
    }
   ],
   "source": [
    "2**25"
   ]
  },
  {
   "cell_type": "code",
   "execution_count": null,
   "metadata": {},
   "outputs": [],
   "source": []
  }
 ],
 "metadata": {
  "kernelspec": {
   "display_name": "Python 3",
   "language": "python",
   "name": "python3"
  },
  "language_info": {
   "codemirror_mode": {
    "name": "ipython",
    "version": 3
   },
   "file_extension": ".py",
   "mimetype": "text/x-python",
   "name": "python",
   "nbconvert_exporter": "python",
   "pygments_lexer": "ipython3",
   "version": "3.7.4"
  }
 },
 "nbformat": 4,
 "nbformat_minor": 4
}
