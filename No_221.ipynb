{
 "cells": [
  {
   "cell_type": "code",
   "execution_count": 1,
   "metadata": {},
   "outputs": [
    {
     "name": "stdout",
     "output_type": "stream",
     "text": [
      "9\n",
      "8\n",
      "7\n",
      "6\n",
      "5\n",
      "4\n",
      "3\n",
      "2\n",
      "1\n"
     ]
    }
   ],
   "source": [
    "for i in range(9, 0, -1):\n",
    "    print (i)"
   ]
  },
  {
   "cell_type": "code",
   "execution_count": 4,
   "metadata": {},
   "outputs": [],
   "source": [
    "import copy"
   ]
  },
  {
   "cell_type": "code",
   "execution_count": 20,
   "metadata": {},
   "outputs": [],
   "source": [
    "def maximalSquare(matrix):\n",
    "        if not matrix:\n",
    "            return 0\n",
    "        \n",
    "        m = len(matrix)\n",
    "        n = len(matrix[0])\n",
    "\n",
    "        new_matrix = copy.deepcopy(matrix)\n",
    "        for i in range(1, m):\n",
    "            for j in range(1, n):\n",
    "                new_matrix[i][j] = int(matrix[i-1][j-1]) - int(new_matrix[i-1][j-1]) + int(new_matrix[i-1][j]) + int(new_matrix[i][j-1])\n",
    "\n",
    "        ans = 0\n",
    "        print ('new_matrix', new_matrix)\n",
    "        for i in range(1, m):\n",
    "            for j in range(1, n):\n",
    "                for k in range(min(m-i, n-j), 0, -1):\n",
    "                    print ('i', i)\n",
    "                    print ('j', j)\n",
    "                    print ('k', k)\n",
    "                    \n",
    "                    m_sum = int(new_matrix[i+k-1][j+k-1]) - int(new_matrix[i+k-1][j-1]) - int(new_matrix[i-1][j+k-1]) + int(new_matrix[i-1][j-1])\n",
    "                    \n",
    "                    if m_sum == k*k:\n",
    "                        ans = max(ans, m_sum)\n",
    "                        break\n",
    "                        \n",
    "        first_col = [i[0] for i in matrix]\n",
    "        if ans == 0:\n",
    "            if '1' in matrix[0] or '1' in first_col:\n",
    "                return 1\n",
    "        return ans"
   ]
  },
  {
   "cell_type": "code",
   "execution_count": 22,
   "metadata": {},
   "outputs": [
    {
     "name": "stdout",
     "output_type": "stream",
     "text": [
      "new_matrix [['1', '1'], ['1', 2]]\n",
      "i 1\n",
      "j 1\n",
      "k 1\n"
     ]
    },
    {
     "data": {
      "text/plain": [
       "1"
      ]
     },
     "execution_count": 22,
     "metadata": {},
     "output_type": "execute_result"
    }
   ],
   "source": [
    "maximalSquare([[\"1\",\"1\"],[\"1\",\"1\"]])"
   ]
  },
  {
   "cell_type": "code",
   "execution_count": 11,
   "metadata": {},
   "outputs": [
    {
     "data": {
      "text/plain": [
       "{'0'}"
      ]
     },
     "execution_count": 11,
     "metadata": {},
     "output_type": "execute_result"
    }
   ],
   "source": [
    "set(['0', '0'])"
   ]
  },
  {
   "cell_type": "code",
   "execution_count": 15,
   "metadata": {},
   "outputs": [],
   "source": [
    "a = [[\"0\",\"0\"],[\"0\",\"0\"]]"
   ]
  },
  {
   "cell_type": "code",
   "execution_count": 18,
   "metadata": {},
   "outputs": [],
   "source": [
    "f_col = [i[0] for i in a]"
   ]
  },
  {
   "cell_type": "code",
   "execution_count": 19,
   "metadata": {},
   "outputs": [
    {
     "data": {
      "text/plain": [
       "['0', '0']"
      ]
     },
     "execution_count": 19,
     "metadata": {},
     "output_type": "execute_result"
    }
   ],
   "source": [
    "f_col"
   ]
  },
  {
   "cell_type": "code",
   "execution_count": null,
   "metadata": {},
   "outputs": [],
   "source": []
  },
  {
   "cell_type": "code",
   "execution_count": null,
   "metadata": {},
   "outputs": [],
   "source": []
  },
  {
   "cell_type": "code",
   "execution_count": null,
   "metadata": {},
   "outputs": [],
   "source": []
  },
  {
   "cell_type": "code",
   "execution_count": 84,
   "metadata": {},
   "outputs": [],
   "source": [
    "def largest(heights):\n",
    "        if not heights:\n",
    "            return 0\n",
    "        if len(heights) == 1:\n",
    "            return heights[0]\n",
    "        max_h = heights[0]\n",
    "        for i in range(0, len(heights)-1):\n",
    "            \n",
    "                if heights[i] < heights[i+1]:\n",
    "                    continue\n",
    "                else:\n",
    "                    print ('i', i)\n",
    "                    current_area = heights[i]\n",
    "                    max_h = max(max_h, current_area)\n",
    "                    for j in range(0, i):\n",
    "                        print (j, 'j')\n",
    "                        area = min(heights[j:i+1]) * (i-j+1) \n",
    "                        print (min(heights[j:i+1]), 'min_height')\n",
    "                        print ('i+1-j', i+1-j)\n",
    "                        print ('area_before', area)\n",
    "                        max_h = max(max_h, area)\n",
    "\n",
    "\n",
    "        current_area = heights[-1]\n",
    "        max_h = max(max_h, current_area)\n",
    "        for j in range(0, len(heights)):\n",
    "            print (j)\n",
    "            area = min(heights[j:]) * (len(heights)-j)\n",
    "            print (area, 'area')\n",
    "            max_h = max(max_h, area)\n",
    "\n",
    "        return max_h"
   ]
  },
  {
   "cell_type": "code",
   "execution_count": 87,
   "metadata": {},
   "outputs": [
    {
     "name": "stdout",
     "output_type": "stream",
     "text": [
      "i 0\n",
      "0\n",
      "2 area\n",
      "1\n",
      "1 area\n"
     ]
    },
    {
     "data": {
      "text/plain": [
       "2"
      ]
     },
     "execution_count": 87,
     "metadata": {},
     "output_type": "execute_result"
    }
   ],
   "source": [
    "largest([1,1])"
   ]
  },
  {
   "cell_type": "code",
   "execution_count": null,
   "metadata": {},
   "outputs": [],
   "source": []
  }
 ],
 "metadata": {
  "kernelspec": {
   "display_name": "Python 3",
   "language": "python",
   "name": "python3"
  },
  "language_info": {
   "codemirror_mode": {
    "name": "ipython",
    "version": 3
   },
   "file_extension": ".py",
   "mimetype": "text/x-python",
   "name": "python",
   "nbconvert_exporter": "python",
   "pygments_lexer": "ipython3",
   "version": "3.7.4"
  }
 },
 "nbformat": 4,
 "nbformat_minor": 4
}
